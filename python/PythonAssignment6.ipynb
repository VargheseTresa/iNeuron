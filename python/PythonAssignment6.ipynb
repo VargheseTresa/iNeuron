{
 "cells": [
  {
   "cell_type": "markdown",
   "metadata": {},
   "source": [
    "## <center> Python Programming Assignment 6 </center>"
   ]
  },
  {
   "cell_type": "markdown",
   "metadata": {},
   "source": [
    "### 1. Write a Python Program to Display Fibonacci Sequence Using Recursion?"
   ]
  },
  {
   "cell_type": "code",
   "execution_count": 4,
   "metadata": {},
   "outputs": [
    {
     "name": "stdout",
     "output_type": "stream",
     "text": [
      "Enter number of terms: 5\n",
      "\n",
      "*** The Fibonacci Sequence ***\n",
      "0\t1\t1\t2\t3\t"
     ]
    }
   ],
   "source": [
    "n = int(input(\"Enter number of terms: \"))\n",
    "\n",
    "\n",
    "def generate_fib(n):\n",
    "    if n<=1:\n",
    "        return n\n",
    "    else:\n",
    "        return generate_fib(n-1) + generate_fib(n-2)\n",
    "    \n",
    "    \n",
    "if n<1:\n",
    "    print(\"Enter a positive number of terms\")\n",
    "else:\n",
    "    print(\"\\n*** The Fibonacci Sequence ***\")\n",
    "    for i in range(n):\n",
    "        print(generate_fib(i), end=\"\\t\")"
   ]
  },
  {
   "cell_type": "markdown",
   "metadata": {},
   "source": [
    "### 2. Write a Python Program to Find Factorial of Number Using Recursion?"
   ]
  },
  {
   "cell_type": "code",
   "execution_count": 13,
   "metadata": {},
   "outputs": [
    {
     "name": "stdout",
     "output_type": "stream",
     "text": [
      "Enter a number: 5\n",
      "The factorial is :  120\n"
     ]
    }
   ],
   "source": [
    "def find_factorial(n):\n",
    "    if n==1:\n",
    "        return 1\n",
    "    else :\n",
    "        return n * find_factorial(n-1)\n",
    "    \n",
    "n = int(input(\"Enter a number: \"))\n",
    "if n<0:\n",
    "    print(\"Enter a positive number\")\n",
    "elif n==0:\n",
    "    print(\"The factorial is : 1\")\n",
    "else:\n",
    "    print(\"The factorial is : \", find_factorial(n))"
   ]
  },
  {
   "cell_type": "markdown",
   "metadata": {},
   "source": [
    "### 3. Write a Python Program to calculate your Body Mass Index?"
   ]
  },
  {
   "cell_type": "code",
   "execution_count": 16,
   "metadata": {},
   "outputs": [
    {
     "name": "stdout",
     "output_type": "stream",
     "text": [
      "Enter your height in meters: 1.6\n",
      "Enter your weight in kg: 63\n",
      "Your BMI is 24.609374999999996\n"
     ]
    }
   ],
   "source": [
    "height = float(input(\"Enter your height in meters: \"))\n",
    "weight = float(input(\"Enter your weight in kg: \"))\n",
    "\n",
    "bmi = weight / (height ** 2)\n",
    "print(\"Your BMI is \" + str(bmi))"
   ]
  },
  {
   "cell_type": "markdown",
   "metadata": {},
   "source": [
    "### 4. Write a Python Program to calculate the natural logarithm of any number?"
   ]
  },
  {
   "cell_type": "code",
   "execution_count": 19,
   "metadata": {},
   "outputs": [
    {
     "name": "stdout",
     "output_type": "stream",
     "text": [
      "Enter a number: 10\n",
      "The natural logarithm of 10 is 2.302585\n"
     ]
    }
   ],
   "source": [
    "import math\n",
    "\n",
    "n = int(input(\"Enter a number: \"))\n",
    "\n",
    "print(\"The natural logarithm of %d is %f\" %(n, math.log(n)))"
   ]
  },
  {
   "cell_type": "markdown",
   "metadata": {},
   "source": [
    "### 5. Write a Python Program for cube sum of first n natural numbers?"
   ]
  },
  {
   "cell_type": "code",
   "execution_count": 23,
   "metadata": {},
   "outputs": [
    {
     "name": "stdout",
     "output_type": "stream",
     "text": [
      "Enter the limit: 4\n",
      "The sum of first 4 natural numbers is: 100\n"
     ]
    }
   ],
   "source": [
    "n = int(input(\"Enter the limit: \"))\n",
    "print(\"The sum of first %d natural numbers is: \" %n, end=\"\")\n",
    "\n",
    "sum = 0\n",
    "for i in range(1,n+1):\n",
    "    sum += i**3\n",
    "\n",
    "print(sum)"
   ]
  }
 ],
 "metadata": {
  "kernelspec": {
   "display_name": "Python 3",
   "language": "python",
   "name": "python3"
  },
  "language_info": {
   "codemirror_mode": {
    "name": "ipython",
    "version": 3
   },
   "file_extension": ".py",
   "mimetype": "text/x-python",
   "name": "python",
   "nbconvert_exporter": "python",
   "pygments_lexer": "ipython3",
   "version": "3.7.6"
  }
 },
 "nbformat": 4,
 "nbformat_minor": 4
}
