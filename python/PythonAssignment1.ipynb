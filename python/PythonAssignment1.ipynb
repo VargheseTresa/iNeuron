{
 "cells": [
  {
   "cell_type": "markdown",
   "metadata": {},
   "source": [
    "## <center> Python Programming Assignment 1 </center>"
   ]
  },
  {
   "cell_type": "markdown",
   "metadata": {},
   "source": [
    "### 1. Write a Python program to print 'Hello Python'?"
   ]
  },
  {
   "cell_type": "code",
   "execution_count": 1,
   "metadata": {},
   "outputs": [
    {
     "name": "stdout",
     "output_type": "stream",
     "text": [
      "Hello Python\n"
     ]
    }
   ],
   "source": [
    "print(\"Hello Python\")"
   ]
  },
  {
   "cell_type": "markdown",
   "metadata": {},
   "source": [
    "### 2. Write a Python program to do arithmetical operations addition and division.?"
   ]
  },
  {
   "cell_type": "code",
   "execution_count": 20,
   "metadata": {},
   "outputs": [
    {
     "name": "stdout",
     "output_type": "stream",
     "text": [
      "Enter the first number: 23\n",
      "Enter the first number: 3\n",
      "\n",
      "***** Results of arithmetic operations *****\n",
      "23 + 3 = 26\n",
      "23 / 3 = 7.67\n"
     ]
    }
   ],
   "source": [
    "try:\n",
    "    num1 = int(input(\"Enter the first number: \"))\n",
    "    num2 = int(input(\"Enter the first number: \"))\n",
    "    try:\n",
    "        sum = num1 + num2\n",
    "        quotient = round((num1 / num2), 2)\n",
    "        print(\"\\n***** Results of arithmetic operations *****\")\n",
    "        print(str(num1) + \" + \" + str(num2) + \" = \" + str(sum))\n",
    "        print(str(num1) + \" / \" + str(num2) + \" = \" + str(quotient))\n",
    "    \n",
    "    except Exception as e:\n",
    "        print(e)\n",
    "\n",
    "except:\n",
    "    print(\"Please enter a valid number\")\n",
    "\n"
   ]
  },
  {
   "cell_type": "markdown",
   "metadata": {},
   "source": [
    "### 3. Write a Python program to find the area of a triangle?\n"
   ]
  },
  {
   "cell_type": "code",
   "execution_count": 25,
   "metadata": {},
   "outputs": [
    {
     "name": "stdout",
     "output_type": "stream",
     "text": [
      "Enter value of side a : 15\n",
      "Enter value of side b : 19.9\n",
      "Enter value of side c : 26.4\n",
      "The area is 148.04\n"
     ]
    }
   ],
   "source": [
    "try:\n",
    "    a = float(input(\"Enter value of side a : \"))\n",
    "    b = float(input(\"Enter value of side b : \"))\n",
    "    c = float(input(\"Enter value of side c : \"))\n",
    "    \n",
    "    s = (a + b + c)/2\n",
    "    area = (s * (s - a) * (s -b) * (s - c)) ** 0.5\n",
    "    \n",
    "    print(\"The area is \", end=\"\")\n",
    "    print(round(area, 2))\n",
    "    \n",
    "except Exception as e:\n",
    "    print(e)\n",
    "    "
   ]
  },
  {
   "cell_type": "markdown",
   "metadata": {},
   "source": [
    "### 4. Write a Python program to swap two variables?\n"
   ]
  },
  {
   "cell_type": "code",
   "execution_count": 27,
   "metadata": {},
   "outputs": [
    {
     "name": "stdout",
     "output_type": "stream",
     "text": [
      "Before swapping a = 5, b = 10.\n",
      "After swapping a = 10, b = 5.\n"
     ]
    }
   ],
   "source": [
    "a = 5\n",
    "b = 10\n",
    "print(\"Before swapping a = %d, b = %d.\" %(a,b))\n",
    "a, b = b, a\n",
    "print(\"After swapping a = %d, b = %d.\" %(a,b))"
   ]
  },
  {
   "cell_type": "markdown",
   "metadata": {},
   "source": [
    "### 5. Write a Python program to generate a random number?"
   ]
  },
  {
   "cell_type": "code",
   "execution_count": 33,
   "metadata": {},
   "outputs": [
    {
     "name": "stdout",
     "output_type": "stream",
     "text": [
      "The random number is : 60\n"
     ]
    }
   ],
   "source": [
    "import random\n",
    "\n",
    "n = random.randint(1,100)\n",
    "print(\"The random number is : \" + str(n))"
   ]
  }
 ],
 "metadata": {
  "kernelspec": {
   "display_name": "Python 3",
   "language": "python",
   "name": "python3"
  },
  "language_info": {
   "codemirror_mode": {
    "name": "ipython",
    "version": 3
   },
   "file_extension": ".py",
   "mimetype": "text/x-python",
   "name": "python",
   "nbconvert_exporter": "python",
   "pygments_lexer": "ipython3",
   "version": "3.7.6"
  }
 },
 "nbformat": 4,
 "nbformat_minor": 4
}
