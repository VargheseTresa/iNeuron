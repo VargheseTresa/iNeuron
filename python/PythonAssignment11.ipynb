{
 "cells": [
  {
   "cell_type": "markdown",
   "metadata": {},
   "source": [
    "## <center> Python Programming Assignment 11 </center>"
   ]
  },
  {
   "cell_type": "markdown",
   "metadata": {},
   "source": [
    "### 1. Write a Python program to find words which are greater than given length k?"
   ]
  },
  {
   "cell_type": "code",
   "execution_count": 7,
   "metadata": {},
   "outputs": [
    {
     "name": "stdout",
     "output_type": "stream",
     "text": [
      "Enter a string : Hello, how are you doing? \n",
      "Enter the length : 3\n",
      "Words with length greater than 3 are :\n",
      "Hello,\n",
      "doing?\n"
     ]
    }
   ],
   "source": [
    "strList = input(\"Enter a string : \").split()\n",
    "n = int(input(\"Enter the length : \"))\n",
    "\n",
    "print(\"Words with length greater than \" + str(n) + \" are :\")\n",
    "for word in strList:\n",
    "    if len(word) > n:\n",
    "        print(word)\n",
    "    "
   ]
  },
  {
   "cell_type": "markdown",
   "metadata": {},
   "source": [
    "### 2. Write a Python program for removing i-th character from a string?"
   ]
  },
  {
   "cell_type": "code",
   "execution_count": 16,
   "metadata": {},
   "outputs": [
    {
     "name": "stdout",
     "output_type": "stream",
     "text": [
      "After removing character at index 3 from string 'Application'\n"
     ]
    },
    {
     "data": {
      "text/plain": [
       "'Appication'"
      ]
     },
     "execution_count": 16,
     "metadata": {},
     "output_type": "execute_result"
    }
   ],
   "source": [
    "sampleString = \"Application\"\n",
    "i = 3\n",
    "\n",
    "print(\"After removing character at index \" + str(i) + \" from string '\" + sampleString + \"'\")\n",
    "newString = sampleString[:i] + sampleString[i+1:]\n",
    "newString"
   ]
  },
  {
   "cell_type": "markdown",
   "metadata": {},
   "source": [
    "### 3. Write a Python program to split and join a string?"
   ]
  },
  {
   "cell_type": "code",
   "execution_count": 25,
   "metadata": {},
   "outputs": [
    {
     "name": "stdout",
     "output_type": "stream",
     "text": [
      "Original string : My name is xxxx\n",
      "After split : ['My', 'name', 'is', 'xxxx']\n",
      "After joining :  My name is xxxx\n"
     ]
    }
   ],
   "source": [
    "sampleStr = \"My name is xxxx\"\n",
    "print(\"Original string : \" + sampleStr)\n",
    "\n",
    "splitStr = sampleStr.split()\n",
    "print(\"After split : \", end = \"\")\n",
    "print(splitStr)\n",
    "\n",
    "joinedStr = \" \".join(splitStr)\n",
    "print(\"After joining : \", joinedStr)\n",
    "\n"
   ]
  },
  {
   "cell_type": "markdown",
   "metadata": {},
   "source": [
    "### 4. Write a Python to check if a given string is binary string or not?"
   ]
  },
  {
   "cell_type": "code",
   "execution_count": 31,
   "metadata": {},
   "outputs": [
    {
     "name": "stdout",
     "output_type": "stream",
     "text": [
      "String     | Is Binary\n",
      "----------------------\n",
      "Hello      |  False\n",
      "0111101    |  True\n"
     ]
    }
   ],
   "source": [
    "def isBinary(inputString):\n",
    "    binary = '01'\n",
    "    for character in inputString:\n",
    "        if character not in binary:\n",
    "            return False\n",
    "    return True\n",
    "\n",
    "print(\"String     | Is Binary\")\n",
    "print(\"----------------------\")\n",
    "print(\"Hello      | \", isBinary(\"Hello\"))\n",
    "print(\"0111101    | \", isBinary(\"0111101\"))"
   ]
  },
  {
   "cell_type": "markdown",
   "metadata": {},
   "source": [
    "### 5. Write a Python program to find uncommon words from two Strings?"
   ]
  },
  {
   "cell_type": "code",
   "execution_count": 42,
   "metadata": {},
   "outputs": [
    {
     "name": "stdout",
     "output_type": "stream",
     "text": [
      "['mango', 'chocolate', 'banana', 'cake']\n"
     ]
    }
   ],
   "source": [
    "basket1 = 'apple, mango, chocolate, butter'.split(\", \")\n",
    "basket2 = 'banana, apple, butter, cake'.split(\", \")\n",
    "uncommonWords = []\n",
    "for item in basket1:\n",
    "    if item not in basket2:\n",
    "        uncommonWords.append(item)\n",
    "        \n",
    "for item in basket2:\n",
    "    if item not in basket1:\n",
    "        uncommonWords.append(item)\n",
    "        \n",
    "print(uncommonWords)"
   ]
  },
  {
   "cell_type": "markdown",
   "metadata": {},
   "source": [
    "### 6. Write a Python to find all duplicate characters in string?"
   ]
  },
  {
   "cell_type": "code",
   "execution_count": 45,
   "metadata": {},
   "outputs": [
    {
     "name": "stdout",
     "output_type": "stream",
     "text": [
      "Duplicate characters in string ' Applications '\n",
      "p\n",
      "i\n"
     ]
    }
   ],
   "source": [
    "sampleStr = \"Applications\"\n",
    "\n",
    "print(\"Duplicate characters in string '\", sampleStr, \"'\")\n",
    "charSet = []\n",
    "for char in sampleStr:\n",
    "    if char in charSet:\n",
    "        print(char)\n",
    "    else:\n",
    "        charSet.append(char)\n",
    "        \n",
    "        "
   ]
  },
  {
   "cell_type": "markdown",
   "metadata": {},
   "source": [
    "### 7. Write a Python Program to check if a string contains any special character?"
   ]
  },
  {
   "cell_type": "code",
   "execution_count": 47,
   "metadata": {},
   "outputs": [
    {
     "name": "stdout",
     "output_type": "stream",
     "text": [
      "Special chars in given string:\n",
      "!\n"
     ]
    }
   ],
   "source": [
    "specialChars = \"@_!#$%^&*()<>?/\\|}{~:[]\"\n",
    "\n",
    "sampleStr = \"Hurray!\"\n",
    "\n",
    "print(\"Special chars in given string:\"\n",
    "     )\n",
    "for char in sampleStr:\n",
    "    if char in specialChars:\n",
    "        print(char)"
   ]
  }
 ],
 "metadata": {
  "kernelspec": {
   "display_name": "Python 3",
   "language": "python",
   "name": "python3"
  },
  "language_info": {
   "codemirror_mode": {
    "name": "ipython",
    "version": 3
   },
   "file_extension": ".py",
   "mimetype": "text/x-python",
   "name": "python",
   "nbconvert_exporter": "python",
   "pygments_lexer": "ipython3",
   "version": "3.7.6"
  }
 },
 "nbformat": 4,
 "nbformat_minor": 4
}
