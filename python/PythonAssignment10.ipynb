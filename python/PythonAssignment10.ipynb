{
 "cells": [
  {
   "cell_type": "markdown",
   "metadata": {},
   "source": [
    "## <center> Python Programming Assignment 10 </center>"
   ]
  },
  {
   "cell_type": "markdown",
   "metadata": {},
   "source": [
    "### 1. Write a Python program to find sum of elements in list?"
   ]
  },
  {
   "cell_type": "code",
   "execution_count": 50,
   "metadata": {},
   "outputs": [
    {
     "name": "stdout",
     "output_type": "stream",
     "text": [
      "Enter the elements of list separated by space: 2 3 5 4 2 6 5 12 55 32\n"
     ]
    },
    {
     "data": {
      "text/plain": [
       "[2, 3, 5, 4, 2, 6, 5, 12, 55, 32]"
      ]
     },
     "execution_count": 50,
     "metadata": {},
     "output_type": "execute_result"
    }
   ],
   "source": [
    "userInput = input(\"Enter the elements of list separated by space: \").split()\n",
    "listA = list(map(int, userInput))\n",
    "listA"
   ]
  },
  {
   "cell_type": "code",
   "execution_count": 51,
   "metadata": {},
   "outputs": [
    {
     "data": {
      "text/plain": [
       "126"
      ]
     },
     "execution_count": 51,
     "metadata": {},
     "output_type": "execute_result"
    }
   ],
   "source": [
    "# using built in function\n",
    "\n",
    "sum(listA)"
   ]
  },
  {
   "cell_type": "code",
   "execution_count": 52,
   "metadata": {},
   "outputs": [
    {
     "data": {
      "text/plain": [
       "126"
      ]
     },
     "execution_count": 52,
     "metadata": {},
     "output_type": "execute_result"
    }
   ],
   "source": [
    "from functools import reduce\n",
    "\n",
    "reduce(lambda x,y:x+y, listA)"
   ]
  },
  {
   "cell_type": "markdown",
   "metadata": {},
   "source": [
    "### 2. Write a Python program to Multiply all numbers in the list?"
   ]
  },
  {
   "cell_type": "code",
   "execution_count": 53,
   "metadata": {},
   "outputs": [
    {
     "data": {
      "text/plain": [
       "152064000"
      ]
     },
     "execution_count": 53,
     "metadata": {},
     "output_type": "execute_result"
    }
   ],
   "source": [
    "reduce(lambda x,y:x*y, listA)"
   ]
  },
  {
   "cell_type": "markdown",
   "metadata": {},
   "source": [
    "### 3. Write a Python program to find smallest number in a list?"
   ]
  },
  {
   "cell_type": "code",
   "execution_count": 54,
   "metadata": {},
   "outputs": [
    {
     "name": "stdout",
     "output_type": "stream",
     "text": [
      "Smallest element\n"
     ]
    },
    {
     "data": {
      "text/plain": [
       "2"
      ]
     },
     "execution_count": 54,
     "metadata": {},
     "output_type": "execute_result"
    }
   ],
   "source": [
    "print(\"Smallest element\")\n",
    "smallest = lambda x,y:x if x<y else y\n",
    "reduce(smallest, listA)"
   ]
  },
  {
   "cell_type": "markdown",
   "metadata": {},
   "source": [
    "### 4. Write a Python program to find largest number in a list?"
   ]
  },
  {
   "cell_type": "code",
   "execution_count": 55,
   "metadata": {},
   "outputs": [
    {
     "name": "stdout",
     "output_type": "stream",
     "text": [
      "Largest element\n"
     ]
    },
    {
     "data": {
      "text/plain": [
       "55"
      ]
     },
     "execution_count": 55,
     "metadata": {},
     "output_type": "execute_result"
    }
   ],
   "source": [
    "print(\"Largest element\")\n",
    "largest = lambda x,y: x if x>y else y\n",
    "reduce(largest, listA)"
   ]
  },
  {
   "cell_type": "markdown",
   "metadata": {},
   "source": [
    "### 5. Write a Python program to find second largest number in a list?"
   ]
  },
  {
   "cell_type": "code",
   "execution_count": 56,
   "metadata": {},
   "outputs": [
    {
     "name": "stdout",
     "output_type": "stream",
     "text": [
      "Second Largest element\n"
     ]
    },
    {
     "data": {
      "text/plain": [
       "32"
      ]
     },
     "execution_count": 56,
     "metadata": {},
     "output_type": "execute_result"
    }
   ],
   "source": [
    "print(\"Second Largest element\")\n",
    "listA.sort()\n",
    "listA[-2]"
   ]
  },
  {
   "cell_type": "markdown",
   "metadata": {},
   "source": [
    "### 6. Write a Python program to find N largest elements from a list?"
   ]
  },
  {
   "cell_type": "code",
   "execution_count": 57,
   "metadata": {},
   "outputs": [
    {
     "name": "stdout",
     "output_type": "stream",
     "text": [
      "Enter the elements of list separated by space: 15 23 41 55 2 45 32 23\n",
      "Enter the value of N: 2\n",
      "2 largest elements from list are\n",
      "55\n",
      "45\n"
     ]
    }
   ],
   "source": [
    "userInput = input(\"Enter the elements of list separated by space: \").split()\n",
    "list1 = list(map(int, userInput))\n",
    "\n",
    "\n",
    "list1.sort(reverse=True)\n",
    "\n",
    "n = int(input(\"Enter the value of N: \"))\n",
    "\n",
    "print(str(n) + \" largest elements from list are\")\n",
    "for i in range(n):\n",
    "    print(list1[i])\n"
   ]
  },
  {
   "cell_type": "markdown",
   "metadata": {},
   "source": [
    "###  7. Write a Python program to print even numbers in a list?"
   ]
  },
  {
   "cell_type": "code",
   "execution_count": 58,
   "metadata": {},
   "outputs": [
    {
     "name": "stdout",
     "output_type": "stream",
     "text": [
      "Even numbers in the list\n"
     ]
    },
    {
     "data": {
      "text/plain": [
       "[32, 2]"
      ]
     },
     "execution_count": 58,
     "metadata": {},
     "output_type": "execute_result"
    }
   ],
   "source": [
    "def isEven(num):\n",
    "    if num%2 == 0:\n",
    "        return True\n",
    "    else:\n",
    "        return False\n",
    "    \n",
    "    \n",
    "print(\"Even numbers in the list\")    \n",
    "list(filter(isEven, list1))\n",
    "    "
   ]
  },
  {
   "cell_type": "markdown",
   "metadata": {},
   "source": [
    "### 8. Write a Python program to print odd numbers in a List?"
   ]
  },
  {
   "cell_type": "code",
   "execution_count": 59,
   "metadata": {},
   "outputs": [
    {
     "name": "stdout",
     "output_type": "stream",
     "text": [
      "Odd numbers in the list\n"
     ]
    },
    {
     "data": {
      "text/plain": [
       "[55, 45, 41, 23, 23, 15]"
      ]
     },
     "execution_count": 59,
     "metadata": {},
     "output_type": "execute_result"
    }
   ],
   "source": [
    "print(\"Odd numbers in the list\")\n",
    "list(filter(lambda x:x%2!=0, list1))"
   ]
  },
  {
   "cell_type": "markdown",
   "metadata": {},
   "source": [
    "### 9. Write a Python program to Remove empty List from List?"
   ]
  },
  {
   "cell_type": "code",
   "execution_count": 60,
   "metadata": {},
   "outputs": [
    {
     "name": "stdout",
     "output_type": "stream",
     "text": [
      "Original list : [2, 3, [3], 7, [], 4, [], 8, 10]\n",
      "After removing empty lists: [2, 3, [3], 7, 4, 8, 10]\n"
     ]
    }
   ],
   "source": [
    "listB = [2,3,[3],7,[],4,[],8,10]\n",
    "\n",
    "print(\"Original list : \" +str(listB))\n",
    "\n",
    "for element in listB:\n",
    "    if isinstance(element, list) and len(element) == 0:\n",
    "        listB.remove(element)\n",
    "print(\"After removing empty lists: \" + str(listB))        \n"
   ]
  },
  {
   "cell_type": "markdown",
   "metadata": {},
   "source": [
    "### 10. Write a Python program to Cloning or Copying a list?"
   ]
  },
  {
   "cell_type": "code",
   "execution_count": 44,
   "metadata": {},
   "outputs": [
    {
     "name": "stdout",
     "output_type": "stream",
     "text": [
      "List 1 : [2, 3, 2, 4, 3, 1]\n",
      "List 2(copy of List 1) : [2, 3, 2, 4, 3, 1]\n"
     ]
    }
   ],
   "source": [
    "list1 = [2,3,2,4,3,1]\n",
    "print(\"List 1 : \" + str(list1))\n",
    "list2 = list1[:]\n",
    "print(\"List 2(copy of List 1) : \" + str(list2))"
   ]
  },
  {
   "cell_type": "markdown",
   "metadata": {},
   "source": [
    "### 11. Write a Python program to Count occurrences of an element in a list?"
   ]
  },
  {
   "cell_type": "code",
   "execution_count": 49,
   "metadata": {},
   "outputs": [
    {
     "name": "stdout",
     "output_type": "stream",
     "text": [
      "Enter the elements of list separated by space: 2 3 5 2 3 2 4\n",
      "Enter the element to count2\n",
      "The number of occurences of 2 is 3\n"
     ]
    }
   ],
   "source": [
    "listA = input(\"Enter the elements of list separated by space: \").split()\n",
    "#listA = list(map(int, userInput))\n",
    "\n",
    "n = input(\"Enter the element to count\")\n",
    "\n",
    "\n",
    "count = 0\n",
    "\n",
    "for i in listA:\n",
    "    if i == n:\n",
    "        count += 1\n",
    "        \n",
    "print(\"The number of occurences of \" + str(n) + \" is \" + str(count))"
   ]
  }
 ],
 "metadata": {
  "kernelspec": {
   "display_name": "Python 3",
   "language": "python",
   "name": "python3"
  },
  "language_info": {
   "codemirror_mode": {
    "name": "ipython",
    "version": 3
   },
   "file_extension": ".py",
   "mimetype": "text/x-python",
   "name": "python",
   "nbconvert_exporter": "python",
   "pygments_lexer": "ipython3",
   "version": "3.7.6"
  }
 },
 "nbformat": 4,
 "nbformat_minor": 4
}
