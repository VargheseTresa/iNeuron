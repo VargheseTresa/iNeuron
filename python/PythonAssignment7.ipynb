{
 "cells": [
  {
   "cell_type": "markdown",
   "metadata": {},
   "source": [
    "## <center> Python Programming Assignment 7 </center>"
   ]
  },
  {
   "cell_type": "markdown",
   "metadata": {},
   "source": [
    "### 1. Write a Python Program to find sum of array?"
   ]
  },
  {
   "cell_type": "code",
   "execution_count": 2,
   "metadata": {},
   "outputs": [
    {
     "name": "stdout",
     "output_type": "stream",
     "text": [
      "The sum of array elements is 60\n"
     ]
    }
   ],
   "source": [
    "input_array = [23,22,10,5]\n",
    "\n",
    "sum=0\n",
    "for num in input_array:\n",
    "    sum += num\n",
    "    \n",
    "print(\"The sum of array elements is %d\" %sum)"
   ]
  },
  {
   "cell_type": "markdown",
   "metadata": {},
   "source": [
    "### 2. Write a Python Program to find largest element in an array?"
   ]
  },
  {
   "cell_type": "code",
   "execution_count": 4,
   "metadata": {},
   "outputs": [
    {
     "name": "stdout",
     "output_type": "stream",
     "text": [
      "The largest element in array is 100\n"
     ]
    }
   ],
   "source": [
    "input_array = [23,22,100,5]\n",
    "\n",
    "largest = input_array[0]\n",
    "for i in range(len(input_array)):\n",
    "    if largest < input_array[i]:\n",
    "        largest = input_array[i]\n",
    "        \n",
    "print(\"The largest element in array is %d\" %largest)"
   ]
  },
  {
   "cell_type": "markdown",
   "metadata": {},
   "source": [
    "### 3. Write a Python Program for array rotation?"
   ]
  },
  {
   "cell_type": "code",
   "execution_count": 7,
   "metadata": {},
   "outputs": [
    {
     "data": {
      "text/plain": [
       "[22, 10, 5, 23]"
      ]
     },
     "execution_count": 7,
     "metadata": {},
     "output_type": "execute_result"
    }
   ],
   "source": [
    "input_array = [23,22,10,5]\n",
    "\n",
    "input_array[:] = input_array[1:] + input_array[0:1]\n",
    "\n",
    "input_array"
   ]
  },
  {
   "cell_type": "markdown",
   "metadata": {},
   "source": [
    "### 4. Write a Python Program to Split the array and add the first part to the end?"
   ]
  },
  {
   "cell_type": "code",
   "execution_count": 10,
   "metadata": {},
   "outputs": [
    {
     "data": {
      "text/plain": [
       "[10, 5, 32, 8, 23, 22]"
      ]
     },
     "execution_count": 10,
     "metadata": {},
     "output_type": "execute_result"
    }
   ],
   "source": [
    "input_array = [23,22,10,5,32,8]\n",
    "\n",
    "# split at index 2\n",
    "\n",
    "input_array[:] = input_array[2:] + input_array[0:2]\n",
    "\n",
    "input_array"
   ]
  },
  {
   "cell_type": "markdown",
   "metadata": {},
   "source": [
    "### 5. Write a Python Program to check if given array is Monotonic?"
   ]
  },
  {
   "cell_type": "code",
   "execution_count": 15,
   "metadata": {},
   "outputs": [
    {
     "name": "stdout",
     "output_type": "stream",
     "text": [
      "The array is monotonic\n"
     ]
    }
   ],
   "source": [
    "arr = [3,4,6,8,9]\n",
    "\n",
    "def is_monotonic(arr):\n",
    "    return (all(arr[i]<=arr[i+1] for i in range(len(arr)-1))) or all(arr[i]>=arr[i+1] for i in range(len(arr)-1)) \n",
    "    \n",
    "if(is_monotonic(arr)):\n",
    "    print(\"The array is monotonic\")\n",
    "else:\n",
    "    print(\"The array is not monotonic\")"
   ]
  }
 ],
 "metadata": {
  "kernelspec": {
   "display_name": "Python 3",
   "language": "python",
   "name": "python3"
  },
  "language_info": {
   "codemirror_mode": {
    "name": "ipython",
    "version": 3
   },
   "file_extension": ".py",
   "mimetype": "text/x-python",
   "name": "python",
   "nbconvert_exporter": "python",
   "pygments_lexer": "ipython3",
   "version": "3.7.6"
  }
 },
 "nbformat": 4,
 "nbformat_minor": 4
}
