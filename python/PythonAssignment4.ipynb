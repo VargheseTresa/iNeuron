{
 "cells": [
  {
   "cell_type": "markdown",
   "metadata": {},
   "source": [
    "## <center> Python Programming Assignment 4 </center>"
   ]
  },
  {
   "cell_type": "markdown",
   "metadata": {},
   "source": [
    "### 1. Write a Python Program to Find the Factorial of a Number?"
   ]
  },
  {
   "cell_type": "code",
   "execution_count": 4,
   "metadata": {},
   "outputs": [
    {
     "name": "stdout",
     "output_type": "stream",
     "text": [
      "Enter a number: 5\n",
      "Factorial of the number is 120\n"
     ]
    }
   ],
   "source": [
    "num = int(input(\"Enter a number: \"))\n",
    "\n",
    "factorial = 1\n",
    "for i in range(2,num+1):\n",
    "    factorial *= i\n",
    "    \n",
    "    \n",
    "print(\"Factorial of the number is \" + str(factorial))"
   ]
  },
  {
   "cell_type": "markdown",
   "metadata": {},
   "source": [
    "### 2. Write a Python Program to Display the multiplication Table?"
   ]
  },
  {
   "cell_type": "code",
   "execution_count": 11,
   "metadata": {},
   "outputs": [
    {
     "name": "stdout",
     "output_type": "stream",
     "text": [
      "Enter a number: 6\n",
      "\n",
      "**** Multiplication table of 6 ****\n",
      "              ---*---               \n",
      "1 \t x \t 6 \t = 6\n",
      "2 \t x \t 6 \t = 12\n",
      "3 \t x \t 6 \t = 18\n",
      "4 \t x \t 6 \t = 24\n",
      "5 \t x \t 6 \t = 30\n",
      "6 \t x \t 6 \t = 36\n",
      "7 \t x \t 6 \t = 42\n",
      "8 \t x \t 6 \t = 48\n",
      "9 \t x \t 6 \t = 54\n",
      "10 \t x \t 6 \t = 60\n"
     ]
    }
   ],
   "source": [
    "num = int(input(\"Enter a number: \"))\n",
    "\n",
    "print(\"\\n**** Multiplication table of %d ****\" %num)\n",
    "print(\"---*---\".center(36))\n",
    "for i in range(1,11):\n",
    "    print(\"%d \\t x \\t %d \\t = %d\" %(i,num,i*num))"
   ]
  },
  {
   "cell_type": "markdown",
   "metadata": {},
   "source": [
    "### 3. Write a Python Program to Print the Fibonacci sequence?"
   ]
  },
  {
   "cell_type": "code",
   "execution_count": 12,
   "metadata": {},
   "outputs": [
    {
     "name": "stdout",
     "output_type": "stream",
     "text": [
      "Enter the limit: 5\n",
      "\n",
      " Fibonacci series upto 5\n"
     ]
    }
   ],
   "source": [
    "limit = int(input(\"Enter the number of terms: \"))\n",
    "print(\"\\n Fibonacci sequence\")"
   ]
  }
 ],
 "metadata": {
  "kernelspec": {
   "display_name": "Python 3",
   "language": "python",
   "name": "python3"
  },
  "language_info": {
   "codemirror_mode": {
    "name": "ipython",
    "version": 3
   },
   "file_extension": ".py",
   "mimetype": "text/x-python",
   "name": "python",
   "nbconvert_exporter": "python",
   "pygments_lexer": "ipython3",
   "version": "3.7.6"
  }
 },
 "nbformat": 4,
 "nbformat_minor": 4
}
