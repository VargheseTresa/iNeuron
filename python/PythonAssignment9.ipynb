{
 "cells": [
  {
   "cell_type": "markdown",
   "metadata": {},
   "source": [
    "## <center> Python Programming Assignment 9 </center>"
   ]
  },
  {
   "cell_type": "markdown",
   "metadata": {},
   "source": [
    "### 1. Write a Python program to check if the given number is a Disarium Number?"
   ]
  },
  {
   "cell_type": "code",
   "execution_count": 53,
   "metadata": {},
   "outputs": [
    {
     "name": "stdout",
     "output_type": "stream",
     "text": [
      "135 is a Disarium Number\n",
      "53 is not a Disarium Number\n"
     ]
    }
   ],
   "source": [
    "\n",
    "def isDisariumNumber(num):\n",
    "    numCopy = num\n",
    "    n = len(str(num))\n",
    "\n",
    "    newNum = 0\n",
    "    for position in range(n,0,-1):\n",
    "        digit = numCopy % 10\n",
    "        newNum += digit ** position\n",
    "        numCopy = numCopy // 10\n",
    "\n",
    "    if newNum == num:\n",
    "        print(str(num) + \" is a Disarium Number\")\n",
    "    else:\n",
    "        print(str(num) + \" is not a Disarium Number\")\n",
    "\n",
    "isDisariumNumber(135)\n",
    "isDisariumNumber(53)"
   ]
  },
  {
   "cell_type": "markdown",
   "metadata": {},
   "source": [
    "### 2. Write a Python program to print all disarium numbers between 1 to 100?"
   ]
  },
  {
   "cell_type": "code",
   "execution_count": 58,
   "metadata": {},
   "outputs": [
    {
     "name": "stdout",
     "output_type": "stream",
     "text": [
      "Disarium numbers between 1 to 100\n",
      "1 2 3 4 5 6 7 8 9 89 "
     ]
    }
   ],
   "source": [
    "def isDisariumNumber(num):\n",
    "    numCopy = num\n",
    "    n = len(str(num))\n",
    "\n",
    "    newNum = 0\n",
    "    for position in range(n,0,-1):\n",
    "        digit = numCopy % 10\n",
    "        newNum += digit ** position\n",
    "        numCopy = numCopy // 10\n",
    "\n",
    "    if newNum == num:\n",
    "        return True\n",
    "    else:\n",
    "        return False\n",
    "\n",
    "\n",
    "print(\"Disarium numbers between 1 to 100\")\n",
    "for i in range(1,100):\n",
    "    if isDisariumNumber(i):\n",
    "        print(i, end=\" \")    "
   ]
  },
  {
   "cell_type": "markdown",
   "metadata": {},
   "source": [
    "### 3. Write a Python program to check if the given number is Happy Number?"
   ]
  },
  {
   "cell_type": "code",
   "execution_count": 72,
   "metadata": {},
   "outputs": [],
   "source": [
    "def isHappyNum(num):\n",
    "    newNum = num\n",
    "    while True:\n",
    "        copy = str(newNum)\n",
    "        newNum = 0\n",
    "        for i in copy:\n",
    "            newNum += int(i) ** 2\n",
    "        if newNum == 1:\n",
    "            return True\n",
    "        elif newNum == 4:\n",
    "            return False\n",
    "        \n"
   ]
  },
  {
   "cell_type": "code",
   "execution_count": 73,
   "metadata": {},
   "outputs": [
    {
     "name": "stdout",
     "output_type": "stream",
     "text": [
      "Enter a number82\n",
      "82 is a happy number\n"
     ]
    }
   ],
   "source": [
    "num = int(input(\"Enter a number\"))\n",
    "\n",
    "if isHappyNum(num):\n",
    "    print(str(num) + \" is a happy number\")\n",
    "else:\n",
    "    print(str(num) + \" is not a happy number\")"
   ]
  },
  {
   "cell_type": "markdown",
   "metadata": {},
   "source": [
    "### 4. Write a Python program to print all happy numbers between 1 and 100?"
   ]
  },
  {
   "cell_type": "code",
   "execution_count": 74,
   "metadata": {},
   "outputs": [
    {
     "name": "stdout",
     "output_type": "stream",
     "text": [
      "Happy numbers between 1 to 100\n",
      "1 7 10 13 19 23 28 31 32 44 49 68 70 79 82 86 91 94 97 "
     ]
    }
   ],
   "source": [
    "print(\"Happy numbers between 1 to 100\")\n",
    "for i in range(1,100):\n",
    "    if isHappyNum(i):\n",
    "        print(i, end=\" \") "
   ]
  },
  {
   "cell_type": "markdown",
   "metadata": {},
   "source": [
    "### 5. Write a Python program to determine whether the given number is a Harshad Number?"
   ]
  },
  {
   "cell_type": "code",
   "execution_count": 79,
   "metadata": {},
   "outputs": [],
   "source": [
    "def isHarshadNum(num):\n",
    "    numCopy = num\n",
    "    sumDigits = 0\n",
    "    while numCopy > 0:\n",
    "        sumDigits += numCopy % 10\n",
    "        numCopy //= 10\n",
    "    if num % sumDigits == 0:\n",
    "        return True\n",
    "    else:\n",
    "        return False"
   ]
  },
  {
   "cell_type": "code",
   "execution_count": 81,
   "metadata": {},
   "outputs": [
    {
     "name": "stdout",
     "output_type": "stream",
     "text": [
      "Enter a number52\n",
      "52 is not a Harshad number\n"
     ]
    }
   ],
   "source": [
    "num = int(input(\"Enter a number\"))\n",
    "\n",
    "if isHarshadNum(num):\n",
    "    print(str(num) + \" is a Harshad number\")\n",
    "else:\n",
    "    print(str(num) + \" is not a Harshad number\")\n"
   ]
  },
  {
   "cell_type": "markdown",
   "metadata": {},
   "source": [
    "### 6. Write a Python program to print all pronic numbers between 1 and 100?"
   ]
  },
  {
   "cell_type": "code",
   "execution_count": 88,
   "metadata": {},
   "outputs": [
    {
     "name": "stdout",
     "output_type": "stream",
     "text": [
      "Pronic numbers between 1 to 100\n",
      "2 6 12 20 30 42 56 72 90 "
     ]
    }
   ],
   "source": [
    "def isPronicNum(num):\n",
    "    for i in range(1, num):\n",
    "        if i * (i+1) == num: \n",
    "            return True\n",
    "    return False\n",
    "\n",
    "\n",
    "print(\"Pronic numbers between 1 to 100\")\n",
    "for i in range(1,100):\n",
    "    if isPronicNum(i):\n",
    "        print(i, end=\" \") \n",
    "\n"
   ]
  }
 ],
 "metadata": {
  "kernelspec": {
   "display_name": "Python 3",
   "language": "python",
   "name": "python3"
  },
  "language_info": {
   "codemirror_mode": {
    "name": "ipython",
    "version": 3
   },
   "file_extension": ".py",
   "mimetype": "text/x-python",
   "name": "python",
   "nbconvert_exporter": "python",
   "pygments_lexer": "ipython3",
   "version": "3.7.6"
  }
 },
 "nbformat": 4,
 "nbformat_minor": 4
}
