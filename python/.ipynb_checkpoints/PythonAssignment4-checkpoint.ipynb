{
 "cells": [
  {
   "cell_type": "markdown",
   "metadata": {},
   "source": [
    "## <center> Python Programming Assignment 4 </center>"
   ]
  },
  {
   "cell_type": "markdown",
   "metadata": {},
   "source": [
    "### 1. Write a Python Program to Find the Factorial of a Number?"
   ]
  },
  {
   "cell_type": "code",
   "execution_count": 4,
   "metadata": {},
   "outputs": [
    {
     "name": "stdout",
     "output_type": "stream",
     "text": [
      "Enter a number: 5\n",
      "Factorial of the number is 120\n"
     ]
    }
   ],
   "source": [
    "num = int(input(\"Enter a number: \"))\n",
    "\n",
    "factorial = 1\n",
    "for i in range(2,num+1):\n",
    "    factorial *= i\n",
    "    \n",
    "    \n",
    "print(\"Factorial of the number is \" + str(factorial))"
   ]
  },
  {
   "cell_type": "markdown",
   "metadata": {},
   "source": [
    "### 2. Write a Python Program to Display the multiplication Table?"
   ]
  },
  {
   "cell_type": "code",
   "execution_count": 11,
   "metadata": {},
   "outputs": [
    {
     "name": "stdout",
     "output_type": "stream",
     "text": [
      "Enter a number: 6\n",
      "\n",
      "**** Multiplication table of 6 ****\n",
      "              ---*---               \n",
      "1 \t x \t 6 \t = 6\n",
      "2 \t x \t 6 \t = 12\n",
      "3 \t x \t 6 \t = 18\n",
      "4 \t x \t 6 \t = 24\n",
      "5 \t x \t 6 \t = 30\n",
      "6 \t x \t 6 \t = 36\n",
      "7 \t x \t 6 \t = 42\n",
      "8 \t x \t 6 \t = 48\n",
      "9 \t x \t 6 \t = 54\n",
      "10 \t x \t 6 \t = 60\n"
     ]
    }
   ],
   "source": [
    "num = int(input(\"Enter a number: \"))\n",
    "\n",
    "print(\"\\n**** Multiplication table of %d ****\" %num)\n",
    "print(\"---*---\".center(36))\n",
    "for i in range(1,11):\n",
    "    print(\"%d \\t x \\t %d \\t = %d\" %(i,num,i*num))"
   ]
  },
  {
   "cell_type": "markdown",
   "metadata": {},
   "source": [
    "### 3. Write a Python Program to Print the Fibonacci sequence?"
   ]
  },
  {
   "cell_type": "code",
   "execution_count": 38,
   "metadata": {},
   "outputs": [
    {
     "name": "stdout",
     "output_type": "stream",
     "text": [
      "Enter the number of terms: 5\n",
      "\n",
      " Fibonacci sequence\n",
      "0\n",
      "1\n",
      "1\n",
      "2\n",
      "3\n"
     ]
    }
   ],
   "source": [
    "def fib_seq(n):\n",
    "    if n<= 1:\n",
    "        return n\n",
    "    else:\n",
    "        return fib_seq(n-1) + fib_seq(n-2)\n",
    "\n",
    "\n",
    "n = int(input(\"Enter the number of terms: \"))\n",
    "\n",
    "if n<1:\n",
    "    print(\"Enter a positive number of terms\")\n",
    "else:\n",
    "    print(\"\\n Fibonacci sequence\")\n",
    "    for i in range(n):\n",
    "        print(fib_seq(i))\n",
    "    \n",
    "    "
   ]
  },
  {
   "cell_type": "markdown",
   "metadata": {},
   "source": [
    "### 4. Write a Python Program to Check Armstrong Number?"
   ]
  },
  {
   "cell_type": "code",
   "execution_count": 47,
   "metadata": {},
   "outputs": [
    {
     "name": "stdout",
     "output_type": "stream",
     "text": [
      "Enter a number: 153\n",
      "Armstrong Number\n"
     ]
    }
   ],
   "source": [
    "num = int(input(\"Enter a number: \"))\n",
    "sum_digits = 0\n",
    "n = num\n",
    "while n>0:\n",
    "    sum_digits += (n%10)**3\n",
    "    n = n // 10\n",
    "    \n",
    "\n",
    "if sum_digits == num:\n",
    "    print(\"Armstrong Number\")\n",
    "else:\n",
    "    print(\"Not an Armstrong Number\")\n"
   ]
  },
  {
   "cell_type": "markdown",
   "metadata": {},
   "source": [
    "### 5. Write a Python Program to Find Armstrong Number in an Interval?"
   ]
  },
  {
   "cell_type": "code",
   "execution_count": 59,
   "metadata": {},
   "outputs": [
    {
     "name": "stdout",
     "output_type": "stream",
     "text": [
      "Enter the lower limit: 1\n",
      "Enter the upper limit: 1000\n",
      "Armstrong numbers between 1 and 1000\n",
      "1\n",
      "153\n",
      "370\n",
      "371\n",
      "407\n"
     ]
    }
   ],
   "source": [
    "lower_limit = int(input(\"Enter the lower limit: \"))\n",
    "upper_limit = int(input(\"Enter the upper limit: \"))\n",
    "\n",
    "print(\"Armstrong numbers between %d and %d\" %(lower_limit, upper_limit))\n",
    "for i in range(lower_limit, upper_limit+1):\n",
    "    sum_digits = 0\n",
    "    n = i\n",
    "    while n>0:\n",
    "        sum_digits += (n%10)**3\n",
    "        n = n // 10\n",
    "        \n",
    "    if sum_digits == i:\n",
    "        print(i)\n"
   ]
  },
  {
   "cell_type": "markdown",
   "metadata": {},
   "source": [
    "### 6. Write a Python Program to Find the Sum of Natural Numbers?"
   ]
  },
  {
   "cell_type": "code",
   "execution_count": 55,
   "metadata": {},
   "outputs": [
    {
     "name": "stdout",
     "output_type": "stream",
     "text": [
      "Enter the limit: 7\n",
      "Sum of natural numbers upto 7 : 28\n"
     ]
    }
   ],
   "source": [
    "limit = int(input(\"Enter the limit: \"))\n",
    "\n",
    "print(\"Sum of natural numbers upto %d : \" %limit, end =\"\")\n",
    "sum = 0\n",
    "\n",
    "while limit>0:\n",
    "    sum += limit\n",
    "    limit -=1\n",
    "print(\"%d\" %sum)"
   ]
  }
 ],
 "metadata": {
  "kernelspec": {
   "display_name": "Python 3",
   "language": "python",
   "name": "python3"
  },
  "language_info": {
   "codemirror_mode": {
    "name": "ipython",
    "version": 3
   },
   "file_extension": ".py",
   "mimetype": "text/x-python",
   "name": "python",
   "nbconvert_exporter": "python",
   "pygments_lexer": "ipython3",
   "version": "3.7.6"
  }
 },
 "nbformat": 4,
 "nbformat_minor": 4
}
