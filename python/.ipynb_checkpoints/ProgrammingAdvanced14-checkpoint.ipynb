{
 "cells": [
  {
   "cell_type": "markdown",
   "metadata": {},
   "source": [
    "## <center> Python Programming Assignment - Advanced 14 </center>"
   ]
  },
  {
   "cell_type": "markdown",
   "metadata": {},
   "source": [
    "### 1. Given a list of numbers, create a function that removes 25% from every number in the list except the smallest number, and adds the total amount removed to the smallest number."
   ]
  },
  {
   "cell_type": "code",
   "execution_count": 14,
   "metadata": {},
   "outputs": [
    {
     "data": {
      "text/plain": [
       "[3.0, 3.0, 3.0]"
      ]
     },
     "execution_count": 14,
     "metadata": {},
     "output_type": "execute_result"
    }
   ],
   "source": [
    "def show_the_love(numbers):\n",
    "    min_n = min(numbers)\n",
    "    new_n = min_n\n",
    "    for i in range(len(numbers)):\n",
    "        if numbers[i] == min_n:\n",
    "            min_index = i\n",
    "        else:\n",
    "            d = numbers[i] * 0.25\n",
    "            new_n += d\n",
    "            numbers[i] -= d\n",
    "            \n",
    "    numbers[min_index] = new_n\n",
    "    \n",
    "    return numbers\n",
    "\n",
    "\n",
    "show_the_love([4, 1, 4]) "
   ]
  },
  {
   "cell_type": "code",
   "execution_count": 15,
   "metadata": {},
   "outputs": [
    {
     "data": {
      "text/plain": [
       "[12.0, 7.5, 14.5]"
      ]
     },
     "execution_count": 15,
     "metadata": {},
     "output_type": "execute_result"
    }
   ],
   "source": [
    "show_the_love([16, 10, 8]) "
   ]
  },
  {
   "cell_type": "code",
   "execution_count": 16,
   "metadata": {},
   "outputs": [
    {
     "data": {
      "text/plain": [
       "[27.0, 75.0]"
      ]
     },
     "execution_count": 16,
     "metadata": {},
     "output_type": "execute_result"
    }
   ],
   "source": [
    "show_the_love([2, 100]) "
   ]
  },
  {
   "cell_type": "markdown",
   "metadata": {},
   "source": [
    "### Question 2:\n",
    "Create a function that takes in two words as input and returns a list of three elements, in the following order:\n",
    "\n",
    "   1. Shared letters between two words.\n",
    "   2. Letters unique to word 1.\n",
    "   3. Letters unique to word 2.\n",
    "\n",
    "Each element should have unique letters, and have each letter be alphabetically sorted.\n"
   ]
  },
  {
   "cell_type": "code",
   "execution_count": 25,
   "metadata": {},
   "outputs": [
    {
     "data": {
      "text/plain": [
       "['aps', 'hr', 'o']"
      ]
     },
     "execution_count": 25,
     "metadata": {},
     "output_type": "execute_result"
    }
   ],
   "source": [
    "def letters(word1, word2):\n",
    "    l1 = set(word1)\n",
    "    l2 = set(word2)\n",
    "    \n",
    "    ans = []\n",
    "    ans.append(\"\".join(sorted(l1.intersection(l2))))\n",
    "    \n",
    "    ans.append(\"\".join(sorted(l1.difference(l2))))\n",
    "    \n",
    "    ans.append(\"\".join(sorted(l2.difference(l1))))\n",
    "    \n",
    "    return ans\n",
    "    \n",
    "    \n",
    "letters(\"sharp\", \"soap\") "
   ]
  },
  {
   "cell_type": "code",
   "execution_count": 26,
   "metadata": {},
   "outputs": [
    {
     "data": {
      "text/plain": [
       "['bdor', 'a', 'e']"
      ]
     },
     "execution_count": 26,
     "metadata": {},
     "output_type": "execute_result"
    }
   ],
   "source": [
    "letters(\"board\", \"bored\") "
   ]
  },
  {
   "cell_type": "code",
   "execution_count": 27,
   "metadata": {},
   "outputs": [
    {
     "data": {
      "text/plain": [
       "['enp', 'ahis', 'lov']"
      ]
     },
     "execution_count": 27,
     "metadata": {},
     "output_type": "execute_result"
    }
   ],
   "source": [
    "letters(\"happiness\", \"envelope\") "
   ]
  },
  {
   "cell_type": "code",
   "execution_count": 28,
   "metadata": {},
   "outputs": [
    {
     "data": {
      "text/plain": [
       "['flu', 'ekr', 'y']"
      ]
     },
     "execution_count": 28,
     "metadata": {},
     "output_type": "execute_result"
    }
   ],
   "source": [
    "letters(\"kerfuffle\", \"fluffy\") "
   ]
  },
  {
   "cell_type": "code",
   "execution_count": 29,
   "metadata": {},
   "outputs": [
    {
     "data": {
      "text/plain": [
       "['ahm', 'ct', '']"
      ]
     },
     "execution_count": 29,
     "metadata": {},
     "output_type": "execute_result"
    }
   ],
   "source": [
    "letters(\"match\", \"ham\") "
   ]
  },
  {
   "cell_type": "markdown",
   "metadata": {},
   "source": [
    "### 3. Write a function that pairs the first number in an array with the last, the second number with the second to last, etc."
   ]
  },
  {
   "cell_type": "code",
   "execution_count": 74,
   "metadata": {},
   "outputs": [
    {
     "data": {
      "text/plain": [
       "[[1, 7], [2, 6], [3, 5], [4, 4]]"
      ]
     },
     "execution_count": 74,
     "metadata": {},
     "output_type": "execute_result"
    }
   ],
   "source": [
    "def pairs(numbers):\n",
    "    \n",
    "    n = len(numbers)\n",
    "    \n",
    "    last = n-1\n",
    "    result = []\n",
    "\n",
    "    if n == 0:\n",
    "        return numbers\n",
    "    \n",
    "    elif n % 2 != 0:       \n",
    "        for i in range(n//2 + 1):\n",
    "            result.append([numbers[i], numbers[last]])\n",
    "            last -= 1\n",
    "    else:\n",
    "        for i in range(n//2):\n",
    "            result.append([numbers[i], numbers[last]])\n",
    "            last -= 1\n",
    "\n",
    "        \n",
    "    return result\n",
    "    \n",
    "\n",
    "pairs([1, 2, 3, 4, 5, 6, 7]) "
   ]
  },
  {
   "cell_type": "code",
   "execution_count": 75,
   "metadata": {},
   "outputs": [
    {
     "data": {
      "text/plain": [
       "[[1, 6], [2, 5], [3, 4]]"
      ]
     },
     "execution_count": 75,
     "metadata": {},
     "output_type": "execute_result"
    }
   ],
   "source": [
    "pairs([1, 2, 3, 4, 5, 6]) "
   ]
  },
  {
   "cell_type": "code",
   "execution_count": 76,
   "metadata": {},
   "outputs": [
    {
     "data": {
      "text/plain": [
       "[[5, 2], [9, 1], [8, 8]]"
      ]
     },
     "execution_count": 76,
     "metadata": {},
     "output_type": "execute_result"
    }
   ],
   "source": [
    "pairs([5, 9, 8, 1, 2])"
   ]
  },
  {
   "cell_type": "code",
   "execution_count": 73,
   "metadata": {},
   "outputs": [
    {
     "data": {
      "text/plain": [
       "[]"
      ]
     },
     "execution_count": 73,
     "metadata": {},
     "output_type": "execute_result"
    }
   ],
   "source": [
    "pairs([])"
   ]
  },
  {
   "cell_type": "markdown",
   "metadata": {},
   "source": [
    "### 4. Write a function that adds two numbers. The catch, however, is that the numbers will be strings."
   ]
  },
  {
   "cell_type": "code",
   "execution_count": 85,
   "metadata": {},
   "outputs": [
    {
     "data": {
      "text/plain": [
       "9"
      ]
     },
     "execution_count": 85,
     "metadata": {},
     "output_type": "execute_result"
    }
   ],
   "source": [
    "def add_str_nums(n1, n2):\n",
    "    if len(n1) == 0:\n",
    "        return n2\n",
    "    elif len(n2) == 0:\n",
    "        return n1\n",
    "    else:\n",
    "        try:\n",
    "            int_n1 = int(n1)\n",
    "            int_n2 = int(n2)\n",
    "        except ValueError:\n",
    "            return -1\n",
    "        return int_n1 + int_n2\n",
    "    \n",
    "        \n",
    "add_str_nums(\"4\", \"5\")"
   ]
  },
  {
   "cell_type": "code",
   "execution_count": 86,
   "metadata": {},
   "outputs": [
    {
     "data": {
      "text/plain": [
       "-1"
      ]
     },
     "execution_count": 86,
     "metadata": {},
     "output_type": "execute_result"
    }
   ],
   "source": [
    "add_str_nums(\"abcdefg\", \"3\") "
   ]
  },
  {
   "cell_type": "code",
   "execution_count": 87,
   "metadata": {},
   "outputs": [
    {
     "data": {
      "text/plain": [
       "'1'"
      ]
     },
     "execution_count": 87,
     "metadata": {},
     "output_type": "execute_result"
    }
   ],
   "source": [
    "add_str_nums(\"1\", \"\") "
   ]
  },
  {
   "cell_type": "code",
   "execution_count": 88,
   "metadata": {},
   "outputs": [
    {
     "data": {
      "text/plain": [
       "1874682736267235927391936562808774986"
      ]
     },
     "execution_count": 88,
     "metadata": {},
     "output_type": "execute_result"
    }
   ],
   "source": [
    "add_str_nums(\"1874682736267235927359283579235789257\", \"32652983572985729\")"
   ]
  },
  {
   "cell_type": "markdown",
   "metadata": {},
   "source": [
    "### Question 5. \n",
    "\n",
    "lPaeesh le pemu mnxit ehess rtnisg! Oh, sorry, that was supposed to say: Please help me unmix these strings!\n",
    "\n",
    "Somehow my strings have all become mixed up; every pair of characters has been swapped. Help me undo this so I can understand my strings again.\n"
   ]
  },
  {
   "cell_type": "code",
   "execution_count": 41,
   "metadata": {},
   "outputs": [
    {
     "data": {
      "text/plain": [
       "'214365'"
      ]
     },
     "execution_count": 41,
     "metadata": {},
     "output_type": "execute_result"
    }
   ],
   "source": [
    "def char_swap(word):\n",
    "    \n",
    "    if len(word.strip())==0:\n",
    "        return ''\n",
    "    \n",
    "    chars = [c for c in word]\n",
    "    for i in range(0, len(chars)-1, 2):\n",
    "        chars[i], chars[i+1] = chars[i+1], chars[i]\n",
    "    return \"\".join(chars)\n",
    "\n",
    "def unmix(inp_str):\n",
    "    words = inp_str.split(\" \")\n",
    "    if len(words) == 1:\n",
    "        return char_swap(words[0])\n",
    "    else:\n",
    "        result = [] \n",
    "        action = 'c1'\n",
    "        \n",
    "        for i in range(len(words)):\n",
    "            if action == 'c1':\n",
    "                result.append(char_swap(words[0][:-1]))\n",
    "                action = 'c2'\n",
    "            elif action == 'c2':\n",
    "                result.append(words[i-1][-1] + char_swap(words[i]) + words[i+1][0])\n",
    "                if len(words[i+1])>1:\n",
    "                    action = 'c3' \n",
    "                else:\n",
    "                    action = 'e1'\n",
    "            elif action == 'c3':\n",
    "                result.append(char_swap(words[i][1:-1]))\n",
    "                action = 'c4'\n",
    "            elif action == 'c4':\n",
    "                if i != len(words)-1:\n",
    "                    result.append(words[i-1][-1] + char_swap(words[i][:-1]))\n",
    "                else:\n",
    "                    result.append(words[i-1][-1] + char_swap(words[i]))\n",
    "            elif action == 'e1':\n",
    "                result.append(words[i+1][0])\n",
    "                action = 'e2'\n",
    "            elif action == 'e2':\n",
    "                result.append(char_swap(words[i][1:]) + words[i+1][0])\n",
    "                action = 'c3'\n",
    "        \n",
    "                        \n",
    "    return \" \".join(result)\n",
    "    \n",
    "    \n",
    "unmix(\"123456\") "
   ]
  },
  {
   "cell_type": "code",
   "execution_count": 42,
   "metadata": {},
   "outputs": [
    {
     "data": {
      "text/plain": [
       "'This is a mixed up string.'"
      ]
     },
     "execution_count": 42,
     "metadata": {},
     "output_type": "execute_result"
    }
   ],
   "source": [
    "unmix(\"hTsii  s aimex dpus rtni.g\")"
   ]
  },
  {
   "cell_type": "code",
   "execution_count": 43,
   "metadata": {},
   "outputs": [
    {
     "data": {
      "text/plain": [
       "'Please help me unmix these strings!'"
      ]
     },
     "execution_count": 43,
     "metadata": {},
     "output_type": "execute_result"
    }
   ],
   "source": [
    "unmix(\"lPaeesh le pemu mnxit ehess rtnisg!\")"
   ]
  },
  {
   "cell_type": "code",
   "execution_count": 44,
   "metadata": {},
   "outputs": [
    {
     "data": {
      "text/plain": [
       "'abcde'"
      ]
     },
     "execution_count": 44,
     "metadata": {},
     "output_type": "execute_result"
    }
   ],
   "source": [
    "unmix(\"badce\") "
   ]
  }
 ],
 "metadata": {
  "kernelspec": {
   "display_name": "Python 3",
   "language": "python",
   "name": "python3"
  },
  "language_info": {
   "codemirror_mode": {
    "name": "ipython",
    "version": 3
   },
   "file_extension": ".py",
   "mimetype": "text/x-python",
   "name": "python",
   "nbconvert_exporter": "python",
   "pygments_lexer": "ipython3",
   "version": "3.7.6"
  }
 },
 "nbformat": 4,
 "nbformat_minor": 4
}
