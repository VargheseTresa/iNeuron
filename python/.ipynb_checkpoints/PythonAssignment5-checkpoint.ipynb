{
 "cells": [
  {
   "cell_type": "markdown",
   "metadata": {},
   "source": [
    "## <center> Python Programming Assignment 4 </center>"
   ]
  },
  {
   "cell_type": "markdown",
   "metadata": {},
   "source": [
    "### 1. Write a Python Program to Find LCM?"
   ]
  },
  {
   "cell_type": "code",
   "execution_count": 1,
   "metadata": {},
   "outputs": [
    {
     "name": "stdout",
     "output_type": "stream",
     "text": [
      "Enter number 1: 3\n",
      "Enter number 2: 6\n",
      "The LCM of 3 and 6 is : 6\n"
     ]
    }
   ],
   "source": [
    "num1 = int(input(\"Enter number 1: \"))\n",
    "num2 = int(input(\"Enter number 2: \"))\n",
    "\n",
    "def find_lcm(num1, num2):\n",
    "    \n",
    "    if num1> num2:\n",
    "        greater = num1\n",
    "    else:\n",
    "        greater = num2\n",
    "        \n",
    "    while(True):\n",
    "        if (greater%num1 == 0) and (greater % num2 == 0):\n",
    "            return greater\n",
    "        else:\n",
    "            greater += 1\n",
    "\n",
    "print(\"The LCM of %d and %d is : \" %(num1, num2), end=\"\")\n",
    "print(find_lcm(num1,num2))"
   ]
  },
  {
   "cell_type": "markdown",
   "metadata": {},
   "source": [
    "### 2. Write a Python Program to Find HCF?"
   ]
  },
  {
   "cell_type": "code",
   "execution_count": 2,
   "metadata": {},
   "outputs": [
    {
     "name": "stdout",
     "output_type": "stream",
     "text": [
      "Enter number 1: 5\n",
      "Enter number 2: 10\n",
      "The HCF of 5 and 10 is : 5\n"
     ]
    }
   ],
   "source": [
    "num1 = int(input(\"Enter number 1: \"))\n",
    "num2 = int(input(\"Enter number 2: \"))\n",
    "\n",
    "def find_hcf(x,y):\n",
    "    if x>y:\n",
    "        smaller = y\n",
    "    else:\n",
    "        smaller = x\n",
    "        \n",
    "    for i in range(1, smaller+1):\n",
    "        if (x%i == 0) and (y%i == 0):\n",
    "            hcf = i\n",
    "    return hcf\n",
    "\n",
    "print(\"The HCF of %d and %d is : \" %(num1, num2), end=\"\")\n",
    "print(find_hcf(num1,num2))\n",
    "            "
   ]
  },
  {
   "cell_type": "markdown",
   "metadata": {},
   "source": [
    "### 3. Write a Python Program to Convert Decimal to Binary, Octal and Hexadecimal?"
   ]
  },
  {
   "cell_type": "code",
   "execution_count": 3,
   "metadata": {},
   "outputs": [
    {
     "name": "stdout",
     "output_type": "stream",
     "text": [
      "Enter a number: 54\n",
      "\n",
      "The corresponding binary value \n",
      "\t0b110110\n",
      "The corresponding octal value \n",
      "\t0o66\n",
      "The corresponding hexadecimal value \n",
      "\t0x36\n"
     ]
    }
   ],
   "source": [
    "num = int(input(\"Enter a number: \"))\n",
    "\n",
    "print(\"\\nThe corresponding binary value \\n\\t\", end=\"\")\n",
    "print(bin(num))\n",
    "print(\"The corresponding octal value \\n\\t\", end=\"\")\n",
    "print(oct(num))\n",
    "print(\"The corresponding hexadecimal value \\n\\t\", end=\"\")\n",
    "print(hex(num))"
   ]
  },
  {
   "cell_type": "markdown",
   "metadata": {},
   "source": [
    "### 4. Write a Python Program To Find ASCII value of a character?"
   ]
  },
  {
   "cell_type": "code",
   "execution_count": 4,
   "metadata": {},
   "outputs": [
    {
     "name": "stdout",
     "output_type": "stream",
     "text": [
      "Enter a character: A\n",
      "\n",
      "The corresponding ASCII value is :  65\n"
     ]
    }
   ],
   "source": [
    "input_character = input(\"Enter a character: \")\n",
    "\n",
    "print(\"\\nThe corresponding ASCII value is : \", ord(input_character))"
   ]
  },
  {
   "cell_type": "markdown",
   "metadata": {},
   "source": [
    "### 5. Write a Python Program to Make a Simple Calculator with 4 basic mathematical operations?"
   ]
  },
  {
   "cell_type": "code",
   "execution_count": 6,
   "metadata": {},
   "outputs": [
    {
     "name": "stdout",
     "output_type": "stream",
     "text": [
      "*** List of Operations ***\n",
      "1. ADDITION\n",
      "2. SUBTRACTION\n",
      "3. MULTIPLICATION\n",
      "4. DIVISION\n",
      "5. EXIT\n",
      "Enter your choice: 2\n",
      "\n",
      "Enter number 1: 3\n",
      "Enter number 2: 5\n",
      "The difference is \n",
      "\t-2\n",
      "*** List of Operations ***\n",
      "1. ADDITION\n",
      "2. SUBTRACTION\n",
      "3. MULTIPLICATION\n",
      "4. DIVISION\n",
      "5. EXIT\n",
      "\n",
      "Enter your choice: 4\n",
      "\n",
      "Enter number 1: 33\n",
      "Enter number 2: 3\n",
      "The quotient is \n",
      "\t11.0\n",
      "*** List of Operations ***\n",
      "1. ADDITION\n",
      "2. SUBTRACTION\n",
      "3. MULTIPLICATION\n",
      "4. DIVISION\n",
      "5. EXIT\n",
      "\n",
      "Enter your choice: 6\n",
      "Enter a valid choice\n",
      "*** List of Operations ***\n",
      "1. ADDITION\n",
      "2. SUBTRACTION\n",
      "3. MULTIPLICATION\n",
      "4. DIVISION\n",
      "5. EXIT\n",
      "\n",
      "Enter your choice: 5\n"
     ]
    }
   ],
   "source": [
    "#from IPython.display import clear_output\n",
    "\n",
    "def display_menu():\n",
    "    print(\"*** List of Operations ***\")\n",
    "    print(\"1. ADDITION\")\n",
    "    print(\"2. SUBTRACTION\")\n",
    "    print(\"3. MULTIPLICATION\")\n",
    "    print(\"4. DIVISION\")\n",
    "    print(\"5. EXIT\")\n",
    "    \n",
    "\n",
    "display_menu()\n",
    "choice = int(input(\"Enter your choice: \"))\n",
    "while choice != 5:\n",
    "    #clear_output(wait=True)\n",
    "    if choice in (1,2,3,4):\n",
    "        num1 = int(input(\"\\nEnter number 1: \"))\n",
    "        num2 = int(input(\"Enter number 2: \"))\n",
    "        \n",
    "        if choice == 1:\n",
    "            print(\"The sum is \\n\\t\", end=\"\")\n",
    "            print(num1+num2)\n",
    "        elif choice == 2:\n",
    "            print(\"The difference is \\n\\t\", end=\"\")\n",
    "            print(num1 - num2)        \n",
    "        elif choice == 3:\n",
    "            print(\"The product is \\n\\t\", end=\"\")\n",
    "            print(num1 * num2)\n",
    "        elif choice == 4:\n",
    "            print(\"The quotient is \\n\\t\", end=\"\")\n",
    "            print(num1 / num2)\n",
    "    else:\n",
    "        print(\"Enter a valid choice\")\n",
    "        \n",
    "    display_menu()\n",
    "    choice = int(input(\"\\nEnter your choice: \"))\n",
    "        \n",
    "    "
   ]
  }
 ],
 "metadata": {
  "kernelspec": {
   "display_name": "Python 3",
   "language": "python",
   "name": "python3"
  },
  "language_info": {
   "codemirror_mode": {
    "name": "ipython",
    "version": 3
   },
   "file_extension": ".py",
   "mimetype": "text/x-python",
   "name": "python",
   "nbconvert_exporter": "python",
   "pygments_lexer": "ipython3",
   "version": "3.7.6"
  }
 },
 "nbformat": 4,
 "nbformat_minor": 4
}
