{
 "cells": [
  {
   "cell_type": "markdown",
   "metadata": {},
   "source": [
    "## <center> Python Programming Assignment 2 </center>"
   ]
  },
  {
   "cell_type": "markdown",
   "metadata": {},
   "source": [
    "### 1. Write a Python program to convert kilometers to miles?"
   ]
  },
  {
   "cell_type": "code",
   "execution_count": 1,
   "metadata": {},
   "outputs": [],
   "source": [
    "def convertToMile(km):\n",
    "    return km*0.62137"
   ]
  },
  {
   "cell_type": "code",
   "execution_count": 7,
   "metadata": {},
   "outputs": [
    {
     "name": "stdout",
     "output_type": "stream",
     "text": [
      "Enter value in km: 15\n",
      "The value in miles : 9.321\n"
     ]
    }
   ],
   "source": [
    "kmValue = float(input(\"Enter value in km: \"))\n",
    "mile = convertToMile(kmValue)\n",
    "print(\"The value in miles : %.3f\" %mile)"
   ]
  },
  {
   "cell_type": "markdown",
   "metadata": {},
   "source": [
    "### 2. Write a Python program to convert Celsius to Fahrenheit?"
   ]
  },
  {
   "cell_type": "code",
   "execution_count": 8,
   "metadata": {},
   "outputs": [],
   "source": [
    "def convertToFarenheit(c):\n",
    "    return (c * 1.8) + 32"
   ]
  },
  {
   "cell_type": "code",
   "execution_count": 10,
   "metadata": {},
   "outputs": [
    {
     "name": "stdout",
     "output_type": "stream",
     "text": [
      "Enter value in Celsius: 36\n",
      "The value in Farenheit : 96.8\n"
     ]
    }
   ],
   "source": [
    "cValue = float(input(\"Enter value in Celsius: \"))\n",
    "f = convertToFarenheit(cValue)\n",
    "print(\"The value in Farenheit : %.1f\" %f)"
   ]
  },
  {
   "cell_type": "markdown",
   "metadata": {},
   "source": [
    "### 3. Write a Python program to display calendar?"
   ]
  },
  {
   "cell_type": "code",
   "execution_count": 17,
   "metadata": {},
   "outputs": [
    {
     "name": "stdout",
     "output_type": "stream",
     "text": [
      "Enter year: 2021\n",
      "Enter month (m or mm): 3\n",
      "\n",
      "     March 2021\n",
      "Mo Tu We Th Fr Sa Su\n",
      " 1  2  3  4  5  6  7\n",
      " 8  9 10 11 12 13 14\n",
      "15 16 17 18 19 20 21\n",
      "22 23 24 25 26 27 28\n",
      "29 30 31\n",
      "\n"
     ]
    }
   ],
   "source": [
    "import calendar\n",
    "\n",
    "year = int(input(\"Enter year: \"))\n",
    "month = int(input(\"Enter month (m or mm): \"))\n",
    "\n",
    "print()\n",
    "print(calendar.month(year, month))"
   ]
  },
  {
   "cell_type": "markdown",
   "metadata": {},
   "source": [
    "### 4. Write a Python program to solve quadratic equation?"
   ]
  },
  {
   "cell_type": "code",
   "execution_count": 33,
   "metadata": {},
   "outputs": [],
   "source": [
    "# Method 1\n",
    "import math\n",
    "\n",
    "def solveEquation(a,b,c):\n",
    "    d = (b ** 2) - (4 * a * c)\n",
    "    \n",
    "    if d == 0:\n",
    "        print(\"Real and same root\")\n",
    "        r = -b / (2 * a)\n",
    "        print(\"The solution= %.2f\" %r)\n",
    "    elif d > 0:\n",
    "        print(\"Real, 2 roots\")\n",
    "        r1 = (-b + math.sqrt(d)) / (2 * a)\n",
    "        r2 = (-b - math.sqrt(d)) / (2 * a)\n",
    "        print(\"The solution= {0} and {1}\".format(r1, r2))\n",
    "    else:\n",
    "        print(\"Complex roots\")\n",
    "        realPart = (-b) / (2 * a)\n",
    "        imagPart = math.sqrt(abs(d)) / (2 * a)\n",
    "        imagPart = imagPart\n",
    "        print(\"The solution = {0}+{1}j and {2}-{3}j\".format(realPart, imagPart, realPart, imagPart))"
   ]
  },
  {
   "cell_type": "code",
   "execution_count": 34,
   "metadata": {},
   "outputs": [
    {
     "name": "stdout",
     "output_type": "stream",
     "text": [
      "Enter coeff a: 1\n",
      "Enter coeff b: 1\n",
      "Enter coeff c: 1\n",
      "Complex roots\n",
      "The solution = -0.5+0.8660254037844386j and -0.5-0.8660254037844386j\n"
     ]
    }
   ],
   "source": [
    "a = float(input(\"Enter coeff a: \"))\n",
    "b = float(input(\"Enter coeff b: \"))\n",
    "c = float(input(\"Enter coeff c: \"))\n",
    "solveEquation(a,b,c)"
   ]
  },
  {
   "cell_type": "code",
   "execution_count": 36,
   "metadata": {},
   "outputs": [],
   "source": [
    "# Method 2\n",
    "import cmath\n",
    "\n",
    "def solveEquation(a,b,c):\n",
    "    d = (b ** 2) - (4 * a * c)\n",
    "    \n",
    "    return (-b + cmath.sqrt(d)) / (2 * a), (-b - cmath.sqrt(d)) / (2 * a)"
   ]
  },
  {
   "cell_type": "code",
   "execution_count": 37,
   "metadata": {},
   "outputs": [
    {
     "name": "stdout",
     "output_type": "stream",
     "text": [
      "Enter coeff a: 1\n",
      "Enter coeff b: -2\n",
      "Enter coeff c: 1\n",
      "sol1: (1+0j)\n",
      "sol2: (1+0j)\n"
     ]
    }
   ],
   "source": [
    "a = float(input(\"Enter coeff a: \"))\n",
    "b = float(input(\"Enter coeff b: \"))\n",
    "c = float(input(\"Enter coeff c: \"))\n",
    "sol1, sol2 = solveEquation(a,b,c)\n",
    "print(\"sol1: \" + str(sol1))\n",
    "print(\"sol2: \" + str(sol2))"
   ]
  },
  {
   "cell_type": "markdown",
   "metadata": {},
   "source": [
    "### 5. Write a Python program to swap two variables without temp variable?"
   ]
  },
  {
   "cell_type": "code",
   "execution_count": 38,
   "metadata": {},
   "outputs": [
    {
     "name": "stdout",
     "output_type": "stream",
     "text": [
      "Before swap a=5, b=10\n",
      "After swap a=10, b=5\n"
     ]
    }
   ],
   "source": [
    "a, b = 5, 10\n",
    "print(\"Before swap a={0}, b={1}\".format(a,b))\n",
    "a,b = b,a\n",
    "print(\"After swap a={0}, b={1}\".format(a,b))\n"
   ]
  }
 ],
 "metadata": {
  "kernelspec": {
   "display_name": "Python 3",
   "language": "python",
   "name": "python3"
  },
  "language_info": {
   "codemirror_mode": {
    "name": "ipython",
    "version": 3
   },
   "file_extension": ".py",
   "mimetype": "text/x-python",
   "name": "python",
   "nbconvert_exporter": "python",
   "pygments_lexer": "ipython3",
   "version": "3.7.6"
  }
 },
 "nbformat": 4,
 "nbformat_minor": 4
}
