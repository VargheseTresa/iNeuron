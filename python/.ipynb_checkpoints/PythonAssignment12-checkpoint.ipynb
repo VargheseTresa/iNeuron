{
 "cells": [
  {
   "cell_type": "markdown",
   "metadata": {},
   "source": [
    "## <center> Python Programming Assignment 12 </center>"
   ]
  },
  {
   "cell_type": "markdown",
   "metadata": {},
   "source": [
    "### 1. Write a Python program to Extract Unique values dictionary values?"
   ]
  },
  {
   "cell_type": "code",
   "execution_count": 5,
   "metadata": {},
   "outputs": [
    {
     "data": {
      "text/plain": [
       "[1, 2, 3, 4, 6, 7, 16]"
      ]
     },
     "execution_count": 5,
     "metadata": {},
     "output_type": "execute_result"
    }
   ],
   "source": [
    "sample_dict = {'key1' : [3,2,4,2],\n",
    "              'key2' : [4,2,6,1],\n",
    "              'key3' : [3,7,2,16]}\n",
    "\n",
    "unique_values = list({val for elem in sample_dict.values() for val in elem})\n",
    "unique_values"
   ]
  },
  {
   "cell_type": "markdown",
   "metadata": {},
   "source": [
    "### 2. Write a Python program to find the sum of all items in a dictionary?"
   ]
  },
  {
   "cell_type": "code",
   "execution_count": 7,
   "metadata": {},
   "outputs": [
    {
     "name": "stdout",
     "output_type": "stream",
     "text": [
      "The sum of dictionary values is  77\n"
     ]
    }
   ],
   "source": [
    "sample_dict = {'a' : 22, 'b' : 33, 'c' : 22}\n",
    "\n",
    "sum = 0\n",
    "for val in sample_dict.values():\n",
    "    sum += val\n",
    "    \n",
    "print(\"The sum of dictionary values is \", sum)"
   ]
  },
  {
   "cell_type": "markdown",
   "metadata": {},
   "source": [
    "### 3. Write a Python program to Merging two Dictionaries?"
   ]
  },
  {
   "cell_type": "code",
   "execution_count": 13,
   "metadata": {},
   "outputs": [
    {
     "data": {
      "text/plain": [
       "{'a': 22, 'b': 33, 'c': 2, 'd': 31}"
      ]
     },
     "execution_count": 13,
     "metadata": {},
     "output_type": "execute_result"
    }
   ],
   "source": [
    "dict1 = {'a' : 22, 'b' : 33}\n",
    "dict2 = {'c' : 2, 'd' : 31}\n",
    "\n",
    "dict1.update(dict2)\n",
    "dict1"
   ]
  },
  {
   "cell_type": "markdown",
   "metadata": {},
   "source": [
    "### 4. Write a Python program to convert key-values list to flat dictionary?"
   ]
  },
  {
   "cell_type": "code",
   "execution_count": 16,
   "metadata": {},
   "outputs": [
    {
     "data": {
      "text/plain": [
       "{1: 'Jan', 2: 'Feb', 3: 'March', 4: 'April'}"
      ]
     },
     "execution_count": 16,
     "metadata": {},
     "output_type": "execute_result"
    }
   ],
   "source": [
    "sample_dict = {'month' : [1, 2, 3, 4],\n",
    "             'name' : ['Jan', 'Feb', 'March', 'April']}\n",
    "\n",
    "dict(zip(sample_dict['month'], sample_dict['name']))"
   ]
  },
  {
   "cell_type": "markdown",
   "metadata": {},
   "source": [
    "### 5. Write a Python program to insertion at the beginning in OrderedDict?"
   ]
  },
  {
   "cell_type": "code",
   "execution_count": 23,
   "metadata": {},
   "outputs": [
    {
     "name": "stdout",
     "output_type": "stream",
     "text": [
      "Original Dictionary:\n",
      "OrderedDict([('a', 5), ('b', 3)])\n",
      "\n",
      "After insertion at the beginning:\n",
      "OrderedDict([('c', 2), ('a', 5), ('b', 3)])\n"
     ]
    }
   ],
   "source": [
    "from collections import OrderedDict\n",
    "\n",
    "original_dict = OrderedDict([('a', 5), ('b', 3)])\n",
    "print(\"Original Dictionary:\")\n",
    "print(original_dict)\n",
    "\n",
    "original_dict.update({'c' : 2})\n",
    "original_dict.move_to_end('c', last=False)\n",
    "print(\"\\nAfter insertion at the beginning:\")\n",
    "print(original_dict)"
   ]
  },
  {
   "cell_type": "markdown",
   "metadata": {},
   "source": [
    "### 6. Write a Python program to check order of character in string using OrderedDict()?"
   ]
  },
  {
   "cell_type": "code",
   "execution_count": 29,
   "metadata": {},
   "outputs": [
    {
     "data": {
      "text/plain": [
       "True"
      ]
     },
     "execution_count": 29,
     "metadata": {},
     "output_type": "execute_result"
    }
   ],
   "source": [
    "def chekOrder(inp_string, pattern):\n",
    "    o_dict = OrderedDict.fromkeys(inp_string)\n",
    "\n",
    "    current_position = 0\n",
    "    for char in o_dict.keys():\n",
    "        if char == pattern[current_position]:\n",
    "            current_position += 1\n",
    "\n",
    "        if current_position == len(pattern):\n",
    "            return True\n",
    "        \n",
    "    return False # When pattern is not found in the given order\n",
    "        \n",
    "\n",
    "\n",
    "inp_string = 'check me'\n",
    "pattern = 'ck'\n",
    "chekOrder(inp_string, pattern)\n",
    "\n",
    "    "
   ]
  },
  {
   "cell_type": "markdown",
   "metadata": {},
   "source": [
    "### 7. Write a Python program to sort Python Dictionaries by Key or Value?"
   ]
  },
  {
   "cell_type": "code",
   "execution_count": 43,
   "metadata": {},
   "outputs": [
    {
     "name": "stdout",
     "output_type": "stream",
     "text": [
      "Original dictionary:\n",
      "{'b': 2, 'a': 4, 'f': 3, 'c': 8, 'h': 5}\n",
      "\n",
      "After sorting by key\n",
      "a: 4, b: 2, c: 8, f: 3, h: 5, \n",
      "\n",
      "After sorting by values\n",
      "[('b', 2), ('f', 3), ('a', 4), ('h', 5), ('c', 8)]\n"
     ]
    }
   ],
   "source": [
    "sample_dict = {'b':2, 'a':4, 'f':3, 'c':8, 'h': 5}\n",
    "\n",
    "print(\"Original dictionary:\")\n",
    "print(sample_dict)\n",
    "\n",
    "print(\"\\nAfter sorting by key\")\n",
    "for key in sorted(sample_dict):\n",
    "    print(key, sample_dict[key], sep=\": \", end=\", \")\n",
    "    \n",
    "\n",
    "print(\"\\n\\nAfter sorting by values\")\n",
    "print(sorted(sample_dict.items(), key= lambda pair:(pair[1], pair[0])))\n"
   ]
  },
  {
   "cell_type": "code",
   "execution_count": null,
   "metadata": {},
   "outputs": [],
   "source": []
  }
 ],
 "metadata": {
  "kernelspec": {
   "display_name": "Python 3",
   "language": "python",
   "name": "python3"
  },
  "language_info": {
   "codemirror_mode": {
    "name": "ipython",
    "version": 3
   },
   "file_extension": ".py",
   "mimetype": "text/x-python",
   "name": "python",
   "nbconvert_exporter": "python",
   "pygments_lexer": "ipython3",
   "version": "3.7.6"
  }
 },
 "nbformat": 4,
 "nbformat_minor": 4
}
