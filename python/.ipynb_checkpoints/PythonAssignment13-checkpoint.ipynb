{
 "cells": [
  {
   "cell_type": "markdown",
   "metadata": {},
   "source": [
    "## <center> Python Programming Assignment 13 </center>"
   ]
  },
  {
   "cell_type": "markdown",
   "metadata": {},
   "source": [
    "### 1. Write a program that calculates and prints the value according to the given formula:\n",
    "Q = Square root of [(2 * C * D)/H]"
   ]
  },
  {
   "cell_type": "code",
   "execution_count": 22,
   "metadata": {},
   "outputs": [
    {
     "name": "stdout",
     "output_type": "stream",
     "text": [
      "Enter the numbers separated by comma : 100,150,180\n",
      "18 22 24 "
     ]
    }
   ],
   "source": [
    "from math import sqrt\n",
    "# def doCalculation(d):\n",
    "C = 50\n",
    "H = 30\n",
    "\n",
    "D = input(\"Enter the numbers separated by comma : \").split(\",\")\n",
    "\n",
    "D = map(lambda x:sqrt((2*C*int(x))/H), D)\n",
    "for i in D:\n",
    "    print(round(i), end=\" \")"
   ]
  },
  {
   "cell_type": "markdown",
   "metadata": {},
   "source": [
    "### 2. Write a program which takes 2 digits, X,Y as input and generates a 2-dimensional array. The element value in the i-th row and j-th column of the array should be i*j."
   ]
  },
  {
   "cell_type": "code",
   "execution_count": 25,
   "metadata": {},
   "outputs": [
    {
     "name": "stdout",
     "output_type": "stream",
     "text": [
      "Enter the value of x : 3\n",
      "Enter the value of y : 5\n"
     ]
    }
   ],
   "source": [
    "x = int(input(\"Enter the value of x : \"))\n",
    "y = int(input(\"Enter the value of y : \"))\n"
   ]
  },
  {
   "cell_type": "code",
   "execution_count": 26,
   "metadata": {},
   "outputs": [
    {
     "data": {
      "text/plain": [
       "[[0, 0, 0, 0, 0], [0, 1, 2, 3, 4], [0, 2, 4, 6, 8]]"
      ]
     },
     "execution_count": 26,
     "metadata": {},
     "output_type": "execute_result"
    }
   ],
   "source": [
    "res=[]\n",
    "for i in range(x):\n",
    "    element = []\n",
    "    for j in range(y):\n",
    "        element.append(i*j)\n",
    "    res.append(element)\n",
    "res       "
   ]
  },
  {
   "cell_type": "code",
   "execution_count": 31,
   "metadata": {},
   "outputs": [
    {
     "data": {
      "text/plain": [
       "[[0, 0, 0, 0, 0], [0, 1, 2, 3, 4], [0, 2, 4, 6, 8]]"
      ]
     },
     "execution_count": 31,
     "metadata": {},
     "output_type": "execute_result"
    }
   ],
   "source": [
    "res = [[i*j for j in range(y)] for i in range(x)]\n",
    "res"
   ]
  },
  {
   "cell_type": "markdown",
   "metadata": {},
   "source": [
    "### 3. Write a program that accepts a comma separated sequence of words as input and prints the words in a comma-separated sequence after sorting them alphabetically."
   ]
  },
  {
   "cell_type": "code",
   "execution_count": 47,
   "metadata": {},
   "outputs": [
    {
     "name": "stdout",
     "output_type": "stream",
     "text": [
      "Enter the list of words separated by comma : without,hello,bag,world\n",
      "bag,hello,without,world\n"
     ]
    }
   ],
   "source": [
    "inputString = input(\"Enter the list of words separated by comma : \").split(\",\")\n",
    "sorted_sequence = \",\".join(sorted(inputString))\n",
    "print(sorted_sequence)"
   ]
  },
  {
   "cell_type": "markdown",
   "metadata": {},
   "source": [
    "### 4. Write a program that accepts a sequence of whitespace separated words as input and prints the words after removing all duplicate words and sorting them alphanumerically."
   ]
  },
  {
   "cell_type": "code",
   "execution_count": 57,
   "metadata": {},
   "outputs": [
    {
     "name": "stdout",
     "output_type": "stream",
     "text": [
      "Enter the words separated by white space : hello world and practice makes perfect and hello world again\n",
      "\n",
      "After removing duplicates and sorting : \n",
      "again and hello makes perfect practice world "
     ]
    }
   ],
   "source": [
    "inputString = input(\"Enter the words separated by white space : \").split()\n",
    "result = list(set(inputString))\n",
    "\n",
    "print(\"\\nAfter removing duplicates and sorting : \")\n",
    "for word in sorted(result):\n",
    "    print(word, end=\" \")"
   ]
  },
  {
   "cell_type": "markdown",
   "metadata": {},
   "source": [
    "### 5. Write a program that accepts a sentence and calculate the number of letters and digits."
   ]
  },
  {
   "cell_type": "code",
   "execution_count": 61,
   "metadata": {},
   "outputs": [
    {
     "name": "stdout",
     "output_type": "stream",
     "text": [
      "Enter a string : hello world! 123\n",
      "LETTERS  10\n",
      "DIGITS  3\n"
     ]
    }
   ],
   "source": [
    "# letters = \"a b c d e f g h i j k l m n o p q r s t u v w x y z\".split()\n",
    "letters = \"abcdefghijklmnopqrstuvwxyz\"\n",
    "numbers = \"0123456789\"\n",
    "\n",
    "input_string = input(\"Enter a string : \")\n",
    "\n",
    "letter_count = 0\n",
    "digit_count = 0\n",
    "for char in input_string:\n",
    "    if char in letters:\n",
    "        letter_count += 1\n",
    "    elif char in numbers:\n",
    "        digit_count += 1\n",
    "\n",
    "print(\"LETTERS \", letter_count)\n",
    "print(\"DIGITS \", digit_count)\n"
   ]
  },
  {
   "cell_type": "markdown",
   "metadata": {},
   "source": [
    "### 6. A website requires the users to input username and password to register. Write a program to check the validity of password input by users.\n",
    "\n",
    "Following are the criteria for checking the password:\n",
    "1. At least 1 letter between [a-z]\n",
    "2. At least 1 number between [0-9]\n",
    "1. At least 1 letter between [A-Z]\n",
    "3. At least 1 character from [$#@]\n",
    "4. Minimum length of transaction password: 6\n",
    "5. Maximum length of transaction password: 12"
   ]
  },
  {
   "cell_type": "code",
   "execution_count": 75,
   "metadata": {},
   "outputs": [
    {
     "name": "stdout",
     "output_type": "stream",
     "text": [
      "Enter the passwords separated by comma : ABd1234@1,a F1#,2w3E*,2We3345\n",
      "\n",
      "The accepted passwords:\n",
      "ABd1234@1\n"
     ]
    }
   ],
   "source": [
    "import re\n",
    "\n",
    "passwords = input(\"Enter the passwords separated by comma : \").split(\",\")\n",
    "\n",
    "def validPassword(pwd):\n",
    "    if len(pwd) < 6 or len(pwd) > 12:\n",
    "        return False\n",
    "    elif not re.search(\"[$#@]+\", pwd):\n",
    "        return False\n",
    "    elif not re.search(\"[A-Z]+\", pwd):\n",
    "        return False\n",
    "    elif not re.search(\"[a-z]+\", pwd):\n",
    "        return False  \n",
    "    elif not re.search(\"[0-9]+\", pwd):\n",
    "        return False    \n",
    "    else:\n",
    "        return True\n",
    "    \n",
    "\n",
    "accepted = []\n",
    "for password in passwords:\n",
    "    if validPassword(password):\n",
    "        accepted.append(password)\n",
    "\n",
    "print(\"\\nThe accepted passwords:\")\n",
    "print(\",\".join(accepted))\n"
   ]
  },
  {
   "cell_type": "code",
   "execution_count": null,
   "metadata": {},
   "outputs": [],
   "source": []
  }
 ],
 "metadata": {
  "kernelspec": {
   "display_name": "Python 3",
   "language": "python",
   "name": "python3"
  },
  "language_info": {
   "codemirror_mode": {
    "name": "ipython",
    "version": 3
   },
   "file_extension": ".py",
   "mimetype": "text/x-python",
   "name": "python",
   "nbconvert_exporter": "python",
   "pygments_lexer": "ipython3",
   "version": "3.7.6"
  }
 },
 "nbformat": 4,
 "nbformat_minor": 4
}
