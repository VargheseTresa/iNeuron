{
 "cells": [
  {
   "cell_type": "markdown",
   "metadata": {},
   "source": [
    "## <center> Python Programming Assignment 7 </center>"
   ]
  },
  {
   "cell_type": "markdown",
   "metadata": {},
   "source": [
    "### 1. Write a Python Program to Add Two Matrices?"
   ]
  },
  {
   "cell_type": "code",
   "execution_count": 24,
   "metadata": {},
   "outputs": [
    {
     "name": "stdout",
     "output_type": "stream",
     "text": [
      "[[6, 6, 6], [8, 9, 3], [7, 7, 5]]\n",
      "[[6, 6, 6], [8, 9, 3], [7, 7, 5]]\n"
     ]
    }
   ],
   "source": [
    "A = [[2,3,4],\n",
    "    [5,3,1],\n",
    "    [3,4,1]]\n",
    "\n",
    "B = [[4,3,2],\n",
    "     [3,6,2],\n",
    "     [4,3,4]]\n",
    "\n",
    "C = [[0,0,0],\n",
    "    [0,0,0],\n",
    "    [0,0,0]]\n",
    "\n",
    "# method 1\n",
    "for i in range(3):\n",
    "    for j in range(3):\n",
    "        C[i][j] = A[i][j] + B[i][j]\n",
    "        \n",
    "print(C)        \n",
    "\n",
    "# method 2\n",
    "sumAB = [[A[i][j] + B[i][j] for j in range(3)] for i in range(3) ]\n",
    "\n",
    "print(sumAB)"
   ]
  },
  {
   "cell_type": "markdown",
   "metadata": {},
   "source": [
    "### 2. Write a Python Program to Multiply Two Matrices?"
   ]
  },
  {
   "cell_type": "code",
   "execution_count": 32,
   "metadata": {},
   "outputs": [
    {
     "data": {
      "text/plain": [
       "[[33, 36, 26], [33, 36, 20], [28, 36, 18]]"
      ]
     },
     "execution_count": 32,
     "metadata": {},
     "output_type": "execute_result"
    }
   ],
   "source": [
    "C = [[0 for i in range(3)] for j in range(3)]\n",
    "\n",
    "for i in range(3):\n",
    "    for j in range(3):\n",
    "        for k in range(3):\n",
    "            C[i][j] += A[i][k] * B[k][j]\n",
    "            \n",
    "            \n",
    "C"
   ]
  },
  {
   "cell_type": "markdown",
   "metadata": {},
   "source": [
    "### 3. Write a Python Program to Transpose a Matrix?"
   ]
  },
  {
   "cell_type": "code",
   "execution_count": 48,
   "metadata": {},
   "outputs": [
    {
     "data": {
      "text/plain": [
       "[[1, 3, 5], [2, 4, 6]]"
      ]
     },
     "execution_count": 48,
     "metadata": {},
     "output_type": "execute_result"
    }
   ],
   "source": [
    "A = [[1,2],\n",
    "    [3,4],\n",
    "    [5,6]]\n",
    "\n",
    "transposeA = list()\n",
    "\n",
    "transposeA = [[A[i][j] for i in range(len(A))] for j in range(len(A[0]))]\n",
    "transposeA\n",
    "\n"
   ]
  },
  {
   "cell_type": "markdown",
   "metadata": {},
   "source": [
    "### 4. Write a Python Program to Sort Words in Alphabetic Order?"
   ]
  },
  {
   "cell_type": "code",
   "execution_count": 58,
   "metadata": {},
   "outputs": [
    {
     "name": "stdout",
     "output_type": "stream",
     "text": [
      "Enter the list of words: tree see hat ball mango\n"
     ]
    },
    {
     "data": {
      "text/plain": [
       "['ball', 'hat', 'mango', 'see', 'tree']"
      ]
     },
     "execution_count": 58,
     "metadata": {},
     "output_type": "execute_result"
    }
   ],
   "source": [
    "words = input(\"Enter the list of words separated by space: \").split()\n",
    "words.sort()\n",
    "words"
   ]
  },
  {
   "cell_type": "markdown",
   "metadata": {},
   "source": [
    "### 5. Write a Python Program to Remove Punctuation From a String?"
   ]
  },
  {
   "cell_type": "code",
   "execution_count": 61,
   "metadata": {},
   "outputs": [
    {
     "name": "stdout",
     "output_type": "stream",
     "text": [
      "Enter a string: He said, 'Hurray!!!'\n",
      "He said Hurray\n"
     ]
    }
   ],
   "source": [
    "punctuations = '''!?,.';\"-%$#@'''\n",
    "\n",
    "original = input(\"Enter a string: \")\n",
    "processedString = ''\n",
    "for i in original:\n",
    "    if i not in punctuations:\n",
    "        processedString += i\n",
    "        \n",
    "print(processedString)"
   ]
  }
 ],
 "metadata": {
  "kernelspec": {
   "display_name": "Python 3",
   "language": "python",
   "name": "python3"
  },
  "language_info": {
   "codemirror_mode": {
    "name": "ipython",
    "version": 3
   },
   "file_extension": ".py",
   "mimetype": "text/x-python",
   "name": "python",
   "nbconvert_exporter": "python",
   "pygments_lexer": "ipython3",
   "version": "3.7.6"
  }
 },
 "nbformat": 4,
 "nbformat_minor": 4
}
