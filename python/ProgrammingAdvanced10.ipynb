{
 "cells": [
  {
   "cell_type": "markdown",
   "metadata": {},
   "source": [
    "## <center> Python Programming Assignment - Advanced 10 </center>"
   ]
  },
  {
   "cell_type": "markdown",
   "metadata": {},
   "source": [
    "### 1. Create a function that takes the width, height and character and returns a picture frame as a 2D list."
   ]
  },
  {
   "cell_type": "code",
   "execution_count": 21,
   "metadata": {},
   "outputs": [
    {
     "name": "stdout",
     "output_type": "stream",
     "text": [
      "[\n",
      "['####'],\n",
      "['#  #'],\n",
      "['#  #'],\n",
      "['#  #'],\n",
      "['####'],\n",
      "]\n"
     ]
    }
   ],
   "source": [
    "def get_frame(cols, rows, char):\n",
    "    \n",
    "    if cols>2:\n",
    "        result=[]\n",
    "        for i in range(rows):\n",
    "            row = [\"\"]\n",
    "            for j in range(cols):\n",
    "                if i == 0 or i== (rows-1):\n",
    "                    row[0] += char\n",
    "                else:\n",
    "                    if j==0 or j==cols-1:\n",
    "                        row[0] += char\n",
    "                    else:\n",
    "                        row[0] += \" \"\n",
    "            result.append(row)\n",
    "\n",
    "        print(\"[\")\n",
    "        for row in result:\n",
    "            print(row, end=\",\\n\")\n",
    "        print(\"]\")\n",
    "    else:\n",
    "        print(\"invalid\")\n",
    "        \n",
    "        \n",
    "    return \n",
    "    \n",
    "get_frame(4,5,'#')   "
   ]
  },
  {
   "cell_type": "code",
   "execution_count": 22,
   "metadata": {},
   "outputs": [
    {
     "name": "stdout",
     "output_type": "stream",
     "text": [
      "[\n",
      "['**********'],\n",
      "['*        *'],\n",
      "['**********'],\n",
      "]\n"
     ]
    }
   ],
   "source": [
    "get_frame(10, 3, \"*\") "
   ]
  },
  {
   "cell_type": "code",
   "execution_count": 23,
   "metadata": {},
   "outputs": [
    {
     "name": "stdout",
     "output_type": "stream",
     "text": [
      "invalid\n"
     ]
    }
   ],
   "source": [
    "get_frame(2, 5, \"0\") "
   ]
  },
  {
   "cell_type": "markdown",
   "metadata": {},
   "source": [
    "### Question 2. \n",
    "\n",
    "Write three functions:\n",
    "\n",
    "  1. boolean_and\n",
    "  2. boolean_or\n",
    "  3. boolean_xor\n",
    "These functions should evaluate a list of True and False values, starting from the leftmost element and evaluating pairwise.\n"
   ]
  },
  {
   "cell_type": "code",
   "execution_count": 25,
   "metadata": {},
   "outputs": [
    {
     "data": {
      "text/plain": [
       "False"
      ]
     },
     "execution_count": 25,
     "metadata": {},
     "output_type": "execute_result"
    }
   ],
   "source": [
    "def boolean_and(inpList):\n",
    "    \n",
    "    start = inpList[0]\n",
    "    for i in range(1, len(inpList)):\n",
    "        start = start and inpList[i]\n",
    "        \n",
    "    return start    \n",
    "    \n",
    "boolean_and([True, True, False, True]) "
   ]
  },
  {
   "cell_type": "code",
   "execution_count": 26,
   "metadata": {},
   "outputs": [
    {
     "data": {
      "text/plain": [
       "True"
      ]
     },
     "execution_count": 26,
     "metadata": {},
     "output_type": "execute_result"
    }
   ],
   "source": [
    "def boolean_or(inpList):\n",
    "    start = inpList[0]\n",
    "    for i in range(1, len(inpList)):\n",
    "        start = start or inpList[i]\n",
    "        \n",
    "    return start \n",
    "\n",
    "boolean_or([True, True, False, False])"
   ]
  },
  {
   "cell_type": "code",
   "execution_count": 28,
   "metadata": {},
   "outputs": [
    {
     "data": {
      "text/plain": [
       "False"
      ]
     },
     "execution_count": 28,
     "metadata": {},
     "output_type": "execute_result"
    }
   ],
   "source": [
    "def boolean_xor(inpList):\n",
    "    start = inpList[0]\n",
    "    for i in range(1, len(inpList)):\n",
    "        start = start != inpList[i]\n",
    "        \n",
    "    return start\n",
    "\n",
    "\n",
    "boolean_xor([True, True, False, False])"
   ]
  },
  {
   "cell_type": "markdown",
   "metadata": {},
   "source": [
    "### 3. Create a function that creates a box based on dimension n."
   ]
  },
  {
   "cell_type": "code",
   "execution_count": 35,
   "metadata": {},
   "outputs": [
    {
     "name": "stdout",
     "output_type": "stream",
     "text": [
      "[\n",
      "#####,\n",
      "#   #,\n",
      "#   #,\n",
      "#   #,\n",
      "#####\n",
      "]\n"
     ]
    }
   ],
   "source": [
    "def make_box(n):\n",
    "    \n",
    "    box=[]\n",
    "    for i in range(n):\n",
    "        row=\"\"\n",
    "        for j in range(n):\n",
    "            if i in [0, n-1]:\n",
    "                row += \"#\"\n",
    "            else:\n",
    "                if j in [0, n-1]:\n",
    "                    row += \"#\"\n",
    "                else:\n",
    "                    row += \" \"\n",
    "        box.append(row)\n",
    "    print(\"[\")\n",
    "    for i in range(len(box)):\n",
    "        if i != len(box) - 1:\n",
    "            print(box[i], end=\",\\n\")\n",
    "        else:\n",
    "            print(box[i])\n",
    "    print(\"]\")\n",
    "    \n",
    "\n",
    "make_box(5) "
   ]
  },
  {
   "cell_type": "code",
   "execution_count": 36,
   "metadata": {},
   "outputs": [
    {
     "name": "stdout",
     "output_type": "stream",
     "text": [
      "[\n",
      "###,\n",
      "# #,\n",
      "###\n",
      "]\n"
     ]
    }
   ],
   "source": [
    "make_box(3) "
   ]
  },
  {
   "cell_type": "code",
   "execution_count": 37,
   "metadata": {},
   "outputs": [
    {
     "name": "stdout",
     "output_type": "stream",
     "text": [
      "[\n",
      "##,\n",
      "##\n",
      "]\n"
     ]
    }
   ],
   "source": [
    "make_box(2) "
   ]
  },
  {
   "cell_type": "code",
   "execution_count": 38,
   "metadata": {},
   "outputs": [
    {
     "name": "stdout",
     "output_type": "stream",
     "text": [
      "[\n",
      "#\n",
      "]\n"
     ]
    }
   ],
   "source": [
    "make_box(1) "
   ]
  },
  {
   "cell_type": "markdown",
   "metadata": {},
   "source": [
    "### 4. Given a common phrase, return False if any individual word in the phrase contains duplicate letters. Return True otherwise."
   ]
  },
  {
   "cell_type": "code",
   "execution_count": 52,
   "metadata": {},
   "outputs": [
    {
     "data": {
      "text/plain": [
       "True"
      ]
     },
     "execution_count": 52,
     "metadata": {},
     "output_type": "execute_result"
    }
   ],
   "source": [
    "import collections\n",
    "\n",
    "def no_duplicate_letters(phrase):\n",
    "    \n",
    "    words = phrase.split(\" \")\n",
    "    for word in words:\n",
    "\n",
    "        char_count = collections.Counter(word)\n",
    "        \n",
    "        for c in sorted(char_count, key= char_count.get, reverse=True):\n",
    "            \n",
    "            if char_count[c] > 1:\n",
    "                return False\n",
    "            else:\n",
    "                break\n",
    "    return True\n",
    "    \n",
    "    \n",
    "no_duplicate_letters(\"Fortune favours the bold.\") "
   ]
  },
  {
   "cell_type": "code",
   "execution_count": 53,
   "metadata": {},
   "outputs": [
    {
     "data": {
      "text/plain": [
       "True"
      ]
     },
     "execution_count": 53,
     "metadata": {},
     "output_type": "execute_result"
    }
   ],
   "source": [
    "no_duplicate_letters(\"You can lead a horse to water, but you can't make him drink.\") "
   ]
  },
  {
   "cell_type": "code",
   "execution_count": 54,
   "metadata": {},
   "outputs": [
    {
     "data": {
      "text/plain": [
       "False"
      ]
     },
     "execution_count": 54,
     "metadata": {},
     "output_type": "execute_result"
    }
   ],
   "source": [
    "no_duplicate_letters(\"Look before you leap.\") "
   ]
  },
  {
   "cell_type": "code",
   "execution_count": 55,
   "metadata": {},
   "outputs": [
    {
     "data": {
      "text/plain": [
       "False"
      ]
     },
     "execution_count": 55,
     "metadata": {},
     "output_type": "execute_result"
    }
   ],
   "source": [
    "no_duplicate_letters(\"An apple a day keeps the doctor away.\") "
   ]
  },
  {
   "cell_type": "markdown",
   "metadata": {},
   "source": [
    "### 5. Write a regular expression that will match the states that voted yes to President Trump's impeachment. You must use RegEx positive lookahead."
   ]
  },
  {
   "cell_type": "code",
   "execution_count": 79,
   "metadata": {},
   "outputs": [
    {
     "data": {
      "text/plain": [
       "['California', 'Florida']"
      ]
     },
     "execution_count": 79,
     "metadata": {},
     "output_type": "execute_result"
    }
   ],
   "source": [
    "import re\n",
    "\n",
    "txt = \"Texas = no, California = yes, Florida = yes, Michigan = no\"\n",
    "\n",
    "\n",
    "pattern = r'\\w+(?= = yes)'\n",
    "\n",
    "re.findall(pattern, txt)"
   ]
  },
  {
   "cell_type": "code",
   "execution_count": null,
   "metadata": {},
   "outputs": [],
   "source": [
    "\n"
   ]
  },
  {
   "cell_type": "code",
   "execution_count": 77,
   "metadata": {},
   "outputs": [
    {
     "data": {
      "text/plain": [
       "['geekss']"
      ]
     },
     "execution_count": 77,
     "metadata": {},
     "output_type": "execute_result"
    }
   ],
   "source": []
  }
 ],
 "metadata": {
  "kernelspec": {
   "display_name": "Python 3",
   "language": "python",
   "name": "python3"
  },
  "language_info": {
   "codemirror_mode": {
    "name": "ipython",
    "version": 3
   },
   "file_extension": ".py",
   "mimetype": "text/x-python",
   "name": "python",
   "nbconvert_exporter": "python",
   "pygments_lexer": "ipython3",
   "version": "3.7.6"
  }
 },
 "nbformat": 4,
 "nbformat_minor": 4
}
